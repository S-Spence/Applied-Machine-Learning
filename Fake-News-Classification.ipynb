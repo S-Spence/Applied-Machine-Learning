{
 "cells": [
  {
   "cell_type": "markdown",
   "id": "17a4f461-50b0-4fc3-9f39-a8a28a301d6d",
   "metadata": {},
   "source": [
    "# Fake News Classification\n",
    "\n",
    "Download the news dataset from the Datasets directory."
   ]
  },
  {
   "cell_type": "code",
   "execution_count": 1,
   "id": "05a9a114-6a31-4488-acdf-5f58b5ef7d2c",
   "metadata": {},
   "outputs": [],
   "source": [
    "%matplotlib inline\n",
    "import matplotlib.pyplot as plt\n",
    "import pandas as pd\n",
    "import numpy as np\n",
    "import scipy.sparse as sp\n",
    "\n",
    "from sklearn.naive_bayes import GaussianNB\n",
    "from sklearn.model_selection import train_test_split\n",
    "from sklearn.preprocessing import StandardScaler\n",
    "from sklearn.feature_extraction.text import TfidfVectorizer\n",
    "from sklearn.pipeline import make_pipeline\n",
    "from copy import deepcopy\n",
    "from typing import Callable, List, Tuple, Any, Dict\n",
    "from sklearn.neural_network import MLPClassifier\n",
    "from sklearn.metrics import accuracy_score\n",
    "from sklearn.ensemble import RandomForestClassifier\n",
    "from sklearn import tree\n",
    "from sklearn.metrics import confusion_matrix\n",
    "from IPython.display import display, HTML\n",
    "from sklearn.model_selection import KFold"
   ]
  },
  {
   "cell_type": "markdown",
   "id": "09495a8f-e4f7-4cea-b9f8-25ddccda0763",
   "metadata": {},
   "source": [
    "### Preprocessing"
   ]
  },
  {
   "cell_type": "code",
   "execution_count": 2,
   "id": "f596b640-02de-4a93-913d-8db03e89f822",
   "metadata": {},
   "outputs": [],
   "source": [
    "fake_news_data = pd.read_csv('Datasets/news_data/Fake.csv')\n",
    "true_news_data = pd.read_csv('Datasets/news_data/True.csv')"
   ]
  },
  {
   "cell_type": "code",
   "execution_count": 3,
   "id": "e2f06a2b-e4b3-4ca2-a2fa-33f98b97700f",
   "metadata": {},
   "outputs": [
    {
     "data": {
      "text/html": [
       "<div>\n",
       "<style scoped>\n",
       "    .dataframe tbody tr th:only-of-type {\n",
       "        vertical-align: middle;\n",
       "    }\n",
       "\n",
       "    .dataframe tbody tr th {\n",
       "        vertical-align: top;\n",
       "    }\n",
       "\n",
       "    .dataframe thead th {\n",
       "        text-align: right;\n",
       "    }\n",
       "</style>\n",
       "<table border=\"1\" class=\"dataframe\">\n",
       "  <thead>\n",
       "    <tr style=\"text-align: right;\">\n",
       "      <th></th>\n",
       "      <th>title</th>\n",
       "      <th>text</th>\n",
       "      <th>subject</th>\n",
       "      <th>date</th>\n",
       "    </tr>\n",
       "  </thead>\n",
       "  <tbody>\n",
       "    <tr>\n",
       "      <th>0</th>\n",
       "      <td>Donald Trump Sends Out Embarrassing New Year’...</td>\n",
       "      <td>Donald Trump just couldn t wish all Americans ...</td>\n",
       "      <td>News</td>\n",
       "      <td>December 31, 2017</td>\n",
       "    </tr>\n",
       "    <tr>\n",
       "      <th>1</th>\n",
       "      <td>Drunk Bragging Trump Staffer Started Russian ...</td>\n",
       "      <td>House Intelligence Committee Chairman Devin Nu...</td>\n",
       "      <td>News</td>\n",
       "      <td>December 31, 2017</td>\n",
       "    </tr>\n",
       "    <tr>\n",
       "      <th>2</th>\n",
       "      <td>Sheriff David Clarke Becomes An Internet Joke...</td>\n",
       "      <td>On Friday, it was revealed that former Milwauk...</td>\n",
       "      <td>News</td>\n",
       "      <td>December 30, 2017</td>\n",
       "    </tr>\n",
       "    <tr>\n",
       "      <th>3</th>\n",
       "      <td>Trump Is So Obsessed He Even Has Obama’s Name...</td>\n",
       "      <td>On Christmas day, Donald Trump announced that ...</td>\n",
       "      <td>News</td>\n",
       "      <td>December 29, 2017</td>\n",
       "    </tr>\n",
       "    <tr>\n",
       "      <th>4</th>\n",
       "      <td>Pope Francis Just Called Out Donald Trump Dur...</td>\n",
       "      <td>Pope Francis used his annual Christmas Day mes...</td>\n",
       "      <td>News</td>\n",
       "      <td>December 25, 2017</td>\n",
       "    </tr>\n",
       "  </tbody>\n",
       "</table>\n",
       "</div>"
      ],
      "text/plain": [
       "                                               title  \\\n",
       "0   Donald Trump Sends Out Embarrassing New Year’...   \n",
       "1   Drunk Bragging Trump Staffer Started Russian ...   \n",
       "2   Sheriff David Clarke Becomes An Internet Joke...   \n",
       "3   Trump Is So Obsessed He Even Has Obama’s Name...   \n",
       "4   Pope Francis Just Called Out Donald Trump Dur...   \n",
       "\n",
       "                                                text subject  \\\n",
       "0  Donald Trump just couldn t wish all Americans ...    News   \n",
       "1  House Intelligence Committee Chairman Devin Nu...    News   \n",
       "2  On Friday, it was revealed that former Milwauk...    News   \n",
       "3  On Christmas day, Donald Trump announced that ...    News   \n",
       "4  Pope Francis used his annual Christmas Day mes...    News   \n",
       "\n",
       "                date  \n",
       "0  December 31, 2017  \n",
       "1  December 31, 2017  \n",
       "2  December 30, 2017  \n",
       "3  December 29, 2017  \n",
       "4  December 25, 2017  "
      ]
     },
     "execution_count": 3,
     "metadata": {},
     "output_type": "execute_result"
    }
   ],
   "source": [
    "fake_news_data.head()"
   ]
  },
  {
   "cell_type": "code",
   "execution_count": 4,
   "id": "39b66fc7-340e-46cd-8f51-886b3629446c",
   "metadata": {},
   "outputs": [
    {
     "data": {
      "text/html": [
       "<div>\n",
       "<style scoped>\n",
       "    .dataframe tbody tr th:only-of-type {\n",
       "        vertical-align: middle;\n",
       "    }\n",
       "\n",
       "    .dataframe tbody tr th {\n",
       "        vertical-align: top;\n",
       "    }\n",
       "\n",
       "    .dataframe thead th {\n",
       "        text-align: right;\n",
       "    }\n",
       "</style>\n",
       "<table border=\"1\" class=\"dataframe\">\n",
       "  <thead>\n",
       "    <tr style=\"text-align: right;\">\n",
       "      <th></th>\n",
       "      <th>title</th>\n",
       "      <th>text</th>\n",
       "      <th>subject</th>\n",
       "      <th>date</th>\n",
       "    </tr>\n",
       "  </thead>\n",
       "  <tbody>\n",
       "    <tr>\n",
       "      <th>0</th>\n",
       "      <td>As U.S. budget fight looms, Republicans flip t...</td>\n",
       "      <td>WASHINGTON (Reuters) - The head of a conservat...</td>\n",
       "      <td>politicsNews</td>\n",
       "      <td>December 31, 2017</td>\n",
       "    </tr>\n",
       "    <tr>\n",
       "      <th>1</th>\n",
       "      <td>U.S. military to accept transgender recruits o...</td>\n",
       "      <td>WASHINGTON (Reuters) - Transgender people will...</td>\n",
       "      <td>politicsNews</td>\n",
       "      <td>December 29, 2017</td>\n",
       "    </tr>\n",
       "    <tr>\n",
       "      <th>2</th>\n",
       "      <td>Senior U.S. Republican senator: 'Let Mr. Muell...</td>\n",
       "      <td>WASHINGTON (Reuters) - The special counsel inv...</td>\n",
       "      <td>politicsNews</td>\n",
       "      <td>December 31, 2017</td>\n",
       "    </tr>\n",
       "    <tr>\n",
       "      <th>3</th>\n",
       "      <td>FBI Russia probe helped by Australian diplomat...</td>\n",
       "      <td>WASHINGTON (Reuters) - Trump campaign adviser ...</td>\n",
       "      <td>politicsNews</td>\n",
       "      <td>December 30, 2017</td>\n",
       "    </tr>\n",
       "    <tr>\n",
       "      <th>4</th>\n",
       "      <td>Trump wants Postal Service to charge 'much mor...</td>\n",
       "      <td>SEATTLE/WASHINGTON (Reuters) - President Donal...</td>\n",
       "      <td>politicsNews</td>\n",
       "      <td>December 29, 2017</td>\n",
       "    </tr>\n",
       "  </tbody>\n",
       "</table>\n",
       "</div>"
      ],
      "text/plain": [
       "                                               title  \\\n",
       "0  As U.S. budget fight looms, Republicans flip t...   \n",
       "1  U.S. military to accept transgender recruits o...   \n",
       "2  Senior U.S. Republican senator: 'Let Mr. Muell...   \n",
       "3  FBI Russia probe helped by Australian diplomat...   \n",
       "4  Trump wants Postal Service to charge 'much mor...   \n",
       "\n",
       "                                                text       subject  \\\n",
       "0  WASHINGTON (Reuters) - The head of a conservat...  politicsNews   \n",
       "1  WASHINGTON (Reuters) - Transgender people will...  politicsNews   \n",
       "2  WASHINGTON (Reuters) - The special counsel inv...  politicsNews   \n",
       "3  WASHINGTON (Reuters) - Trump campaign adviser ...  politicsNews   \n",
       "4  SEATTLE/WASHINGTON (Reuters) - President Donal...  politicsNews   \n",
       "\n",
       "                 date  \n",
       "0  December 31, 2017   \n",
       "1  December 29, 2017   \n",
       "2  December 31, 2017   \n",
       "3  December 30, 2017   \n",
       "4  December 29, 2017   "
      ]
     },
     "execution_count": 4,
     "metadata": {},
     "output_type": "execute_result"
    }
   ],
   "source": [
    "true_news_data.head()"
   ]
  },
  {
   "cell_type": "code",
   "execution_count": 5,
   "id": "46da2d7d-097a-4e66-998b-fb68830427f9",
   "metadata": {},
   "outputs": [
    {
     "data": {
      "text/plain": [
       "(21417, 4)"
      ]
     },
     "execution_count": 5,
     "metadata": {},
     "output_type": "execute_result"
    }
   ],
   "source": [
    "true_news_data.shape"
   ]
  },
  {
   "cell_type": "code",
   "execution_count": 6,
   "id": "2767e6ab-c72e-46b4-8b96-82020a9a3bf3",
   "metadata": {},
   "outputs": [
    {
     "data": {
      "text/plain": [
       "(23481, 4)"
      ]
     },
     "execution_count": 6,
     "metadata": {},
     "output_type": "execute_result"
    }
   ],
   "source": [
    "fake_news_data.shape"
   ]
  },
  {
   "cell_type": "code",
   "execution_count": 7,
   "id": "39df7073-5433-4c7e-a64a-5a77bdafb830",
   "metadata": {},
   "outputs": [
    {
     "data": {
      "image/png": "[encoded data removed]",
      "text/plain": [
       "<Figure size 500x500 with 1 Axes>"
      ]
     },
     "metadata": {},
     "output_type": "display_data"
    }
   ],
   "source": [
    "fig = plt.figure(figsize=(5, 5))\n",
    "labels = 'Real Examples', 'Fake Examples'\n",
    "sizes = [len(true_news_data), len(fake_news_data)] \n",
    "\n",
    "plt.pie(sizes, labels=labels, autopct='%1.1f%%', startangle=90)\n",
    "plt.axis('equal')  \n",
    "plt.title('Class Distribution')\n",
    "plt.show()"
   ]
  },
  {
   "cell_type": "markdown",
   "id": "db6d1c9c-de3a-40a5-8779-c4c42b1ae123",
   "metadata": {},
   "source": [
    "This dataset contains a relatively even distribution of positive and negative examples. "
   ]
  },
  {
   "cell_type": "code",
   "execution_count": 8,
   "id": "1d60d33f-30be-417a-b0bc-e34bd60a937f",
   "metadata": {},
   "outputs": [],
   "source": [
    "# add labels to datasets\n",
    "fake_news_data['class'] = 1\n",
    "true_news_data['class'] = 0"
   ]
  },
  {
   "cell_type": "code",
   "execution_count": 9,
   "id": "c867ea9b-41cf-4910-9dce-5f7582af6797",
   "metadata": {},
   "outputs": [
    {
     "data": {
      "text/plain": [
       "(44898, 5)"
      ]
     },
     "execution_count": 9,
     "metadata": {},
     "output_type": "execute_result"
    }
   ],
   "source": [
    "# append dataframes and shuffle\n",
    "news_df = pd.concat([true_news_data, fake_news_data], ignore_index=True)\n",
    "news_df = news_df.sample(frac=1).reset_index(drop=True)\n",
    "news_df.shape"
   ]
  },
  {
   "cell_type": "code",
   "execution_count": 10,
   "id": "46d57b59-0dbf-4683-888d-d8b6c9668f29",
   "metadata": {},
   "outputs": [
    {
     "data": {
      "text/html": [
       "<div>\n",
       "<style scoped>\n",
       "    .dataframe tbody tr th:only-of-type {\n",
       "        vertical-align: middle;\n",
       "    }\n",
       "\n",
       "    .dataframe tbody tr th {\n",
       "        vertical-align: top;\n",
       "    }\n",
       "\n",
       "    .dataframe thead th {\n",
       "        text-align: right;\n",
       "    }\n",
       "</style>\n",
       "<table border=\"1\" class=\"dataframe\">\n",
       "  <thead>\n",
       "    <tr style=\"text-align: right;\">\n",
       "      <th></th>\n",
       "      <th>title</th>\n",
       "      <th>text</th>\n",
       "      <th>subject</th>\n",
       "      <th>date</th>\n",
       "      <th>class</th>\n",
       "    </tr>\n",
       "  </thead>\n",
       "  <tbody>\n",
       "    <tr>\n",
       "      <th>0</th>\n",
       "      <td>Mnangagwa told Mugabe he will be safe in Zimba...</td>\n",
       "      <td>HARARE (Reuters) - Incoming Zimbabwe leader Em...</td>\n",
       "      <td>worldnews</td>\n",
       "      <td>November 24, 2017</td>\n",
       "      <td>0</td>\n",
       "    </tr>\n",
       "    <tr>\n",
       "      <th>1</th>\n",
       "      <td>Trump's Supreme Court nominee questions power ...</td>\n",
       "      <td>NEW YORK (Reuters) - Supreme Court nominee Jud...</td>\n",
       "      <td>politicsNews</td>\n",
       "      <td>February 1, 2017</td>\n",
       "      <td>0</td>\n",
       "    </tr>\n",
       "    <tr>\n",
       "      <th>2</th>\n",
       "      <td>This Traditionally Red State Is Going Blue, N...</td>\n",
       "      <td>Remember back in May when Donald Trump said he...</td>\n",
       "      <td>News</td>\n",
       "      <td>October 19, 2016</td>\n",
       "      <td>1</td>\n",
       "    </tr>\n",
       "    <tr>\n",
       "      <th>3</th>\n",
       "      <td>The FBI Just Announced The Results Of Their I...</td>\n",
       "      <td>At 11 AM Tuesday morning, FBI Director James C...</td>\n",
       "      <td>News</td>\n",
       "      <td>July 5, 2016</td>\n",
       "      <td>1</td>\n",
       "    </tr>\n",
       "    <tr>\n",
       "      <th>4</th>\n",
       "      <td>VIDEO SURFACES OF DISGRACED Alleged Pedophile ...</td>\n",
       "      <td>Earlier today, it was reported by TMZ that an ...</td>\n",
       "      <td>politics</td>\n",
       "      <td>Oct 30, 2017</td>\n",
       "      <td>1</td>\n",
       "    </tr>\n",
       "  </tbody>\n",
       "</table>\n",
       "</div>"
      ],
      "text/plain": [
       "                                               title  \\\n",
       "0  Mnangagwa told Mugabe he will be safe in Zimba...   \n",
       "1  Trump's Supreme Court nominee questions power ...   \n",
       "2   This Traditionally Red State Is Going Blue, N...   \n",
       "3   The FBI Just Announced The Results Of Their I...   \n",
       "4  VIDEO SURFACES OF DISGRACED Alleged Pedophile ...   \n",
       "\n",
       "                                                text       subject  \\\n",
       "0  HARARE (Reuters) - Incoming Zimbabwe leader Em...     worldnews   \n",
       "1  NEW YORK (Reuters) - Supreme Court nominee Jud...  politicsNews   \n",
       "2  Remember back in May when Donald Trump said he...          News   \n",
       "3  At 11 AM Tuesday morning, FBI Director James C...          News   \n",
       "4  Earlier today, it was reported by TMZ that an ...      politics   \n",
       "\n",
       "                 date  class  \n",
       "0  November 24, 2017       0  \n",
       "1   February 1, 2017       0  \n",
       "2    October 19, 2016      1  \n",
       "3        July 5, 2016      1  \n",
       "4        Oct 30, 2017      1  "
      ]
     },
     "execution_count": 10,
     "metadata": {},
     "output_type": "execute_result"
    }
   ],
   "source": [
    "news_df.head()"
   ]
  },
  {
   "cell_type": "code",
   "execution_count": 11,
   "id": "9e3299b7-3559-43f9-a8ab-31e861e2f241",
   "metadata": {},
   "outputs": [
    {
     "name": "stdout",
     "output_type": "stream",
     "text": [
      "Features:\n",
      "['america' 'anti' 'black' 'breaking' 'calls' 'campaign' 'china' 'clinton'\n",
      " 'cnn' 'court' 'deal' 'democrats' 'donald' 'election' 'eu' 'fbi' 'gets'\n",
      " 'gop' 'government' 'hillary' 'house' 'iran' 'just' 'korea' 'media'\n",
      " 'muslim' 'new' 'news' 'north' 'obama' 'party' 'people' 'police'\n",
      " 'president' 'republican' 'republicans' 'russia' 'russian' 'says' 'senate'\n",
      " 'state' 'syria' 'tax' 'trump' 'tweets' 'video' 'vote' 'war' 'watch'\n",
      " 'white']\n"
     ]
    }
   ],
   "source": [
    "# create a vectorizer with a max of 50 features \n",
    "vectorizer = TfidfVectorizer(stop_words='english', max_features=50)\n",
    "\n",
    "# create a copy of the dataset and extract the titles column and class labels\n",
    "# NOTE: the text column will be added in a later cell.\n",
    "news_df_2 = deepcopy(news_df)\n",
    "title_labels = news_df_2['class']\n",
    "titles_df = news_df_2['title']\n",
    "\n",
    "# split train/test data\n",
    "x_train, x_test, y_train, y_test = train_test_split(titles_df, title_labels, test_size=0.20, random_state=14)\n",
    "\n",
    "# transform title column\n",
    "titles_train = vectorizer.fit_transform(x_train)\n",
    "titles_test = vectorizer.transform(x_test)\n",
    "\n",
    "# scale features\n",
    "scaler = StandardScaler(with_mean=False)\n",
    "titles_train = scaler.fit_transform(titles_train)\n",
    "titles_test = scaler.transform(titles_test)\n",
    "y_train = np.array(y_train)\n",
    "y_test = np.array(y_test)\n",
    "\n",
    "# visualize the 50 features selected\n",
    "features = vectorizer.get_feature_names_out()\n",
    "print(f\"Features:\\n{features}\")"
   ]
  },
  {
   "cell_type": "markdown",
   "id": "c462b59c-156a-4bec-af40-80a615054ff9",
   "metadata": {},
   "source": [
    "### Test a Naive Bayes Classifier to check the pipeline"
   ]
  },
  {
   "cell_type": "code",
   "execution_count": 12,
   "id": "105af131-56aa-482b-9c05-27994046f16a",
   "metadata": {},
   "outputs": [
    {
     "name": "stdout",
     "output_type": "stream",
     "text": [
      "Naive Bayes Classifier:\n",
      "Training Accuracy: 80.61% Test Accuracy: 80.19%\n"
     ]
    }
   ],
   "source": [
    "naive_bayes = GaussianNB()\n",
    "nb_model = naive_bayes.fit(titles_train.toarray(), y_train)\n",
    "nb_train_predictions = nb_model.predict(titles_train.toarray())\n",
    "nb_test_predictions = nb_model.predict(titles_test.toarray())\n",
    "print(\"Naive Bayes Classifier:\")\n",
    "print(f\"Training Accuracy: {round(100 * accuracy_score(y_train, nb_train_predictions), 2)}%\", end=\" \")\n",
    "print(f\"Test Accuracy: {round(100 *accuracy_score(y_test, nb_test_predictions), 2)}%\")"
   ]
  },
  {
   "cell_type": "markdown",
   "id": "93d58a88-de01-4aca-a549-1a55873b1b55",
   "metadata": {},
   "source": [
    "### Helper Functions"
   ]
  },
  {
   "cell_type": "markdown",
   "id": "164304ea-4511-479f-af47-b52e0a5d6741",
   "metadata": {},
   "source": [
    "<a id=\"annot\"></a>\n",
    "## annot\n",
    "*The annot function was provided by Dr. Guven in the module four notebook. This function adds an operating point annotation to the ROC plots.*  **Used by**: [plot_roc](#plot_roc)\n",
    "\n",
    "* **opi** int: the index of the operating point in the results lists\n",
    "* **_x** float: the FPR for the operating point\n",
    "* **_y** float: the TPr for the operating point\n",
    "\n",
    "**returns** None."
   ]
  },
  {
   "cell_type": "code",
   "execution_count": 13,
   "id": "b8f99fff-5fae-4822-bebb-ba7fa164936f",
   "metadata": {},
   "outputs": [],
   "source": [
    "# annot code by E. Guven module 4 notebook\n",
    "def annot(opi: int, _x: float, _y: float) -> None:\n",
    "    plt.annotate(f\"OP{opi}\", xy=(_x, _y), xytext=(.90*_x+.1, .80*_y), arrowprops=dict(facecolor='lightgray', shrink=1))"
   ]
  },
  {
   "cell_type": "markdown",
   "id": "94e5ec32-8e30-4a94-9cc6-b8634a82a8b9",
   "metadata": {},
   "source": [
    "<a id=\"plot_roc\"></a>\n",
    "## plot_roc\n",
    "*The plot_roc function was provided by Dr. Guven in the module four notebook. This function plots the ROC curve for a model tested with different hyperparameters. The model also adds annotations to the plots at the provided operating points indices.*\n",
    "\n",
    "* **FPR** List[float]: a list of false positive rates for the different experiments\n",
    "* **TPR** List[float]: a list of true positive rates for the different experiments\n",
    "* **annotate_indices** List[int]: a list of indices for operating points to annotate\n",
    "\n",
    "**returns** None."
   ]
  },
  {
   "cell_type": "code",
   "execution_count": 14,
   "id": "b26c68d8-5c35-4c6b-863a-f23dd745eba8",
   "metadata": {},
   "outputs": [],
   "source": [
    "# plot_roc code by E. Guven module 4 notebook\n",
    "def plot_roc(FPR: List[float], TPR: List[float], annotate_indices: List[int]) -> None:\n",
    "    # sorts the points to display nicely on ROC\n",
    "    FPR, TPR = zip(*sorted(zip(FPR, TPR)))\n",
    "    fpr = [0.]+list(FPR)+[1.]; tpr = [0.]+list(TPR)+[1.]\n",
    "\n",
    "    # plot\n",
    "    fig, ax = plt.subplots(dpi=72)\n",
    "    plt.plot(fpr, tpr, ':', label='ROC')\n",
    "    plt.scatter(FPR, TPR, 50, color='red', marker='o', label='operating points')\n",
    "    plt.plot([0, 1], [0, 1], linestyle='--', color=(0.6, 0.6, 0.6), label='coin flip')\n",
    "\n",
    "    # annotate some data points\n",
    "    for i in annotate_indices:\n",
    "        annot(i, fpr[i], tpr[i])\n",
    "    \n",
    "\n",
    "    # labels\n",
    "    plt.xlabel('False Positive Rate')\n",
    "    plt.ylabel('True Positive Rate')\n",
    "    plt.legend(loc='lower right')\n",
    "    plt.grid()\n",
    "    plt.show()"
   ]
  },
  {
   "cell_type": "markdown",
   "id": "f182995b-d3f3-4cc5-9abc-2d311306239b",
   "metadata": {},
   "source": [
    "<a id=\"get_annot_indices\"></a>\n",
    "## get_annot_indices\n",
    "*The get_annot_indices function returns the indices of the operating points with minimum accuracy, maximum accuracy, and maximum TPR.*\n",
    "\n",
    "* **acc** List[float]: a list of accuracies for the different experiments\n",
    "* **TPR** List[float]: a list of true positive rates for the different experiments\n",
    "* **annotate_indices** List[int]: a list of indices for operating points to annotate\n",
    "\n",
    "**returns** None."
   ]
  },
  {
   "cell_type": "code",
   "execution_count": 15,
   "id": "930a43d6-e397-4106-838d-ca74b08b0890",
   "metadata": {},
   "outputs": [],
   "source": [
    "def get_annot_indices(acc, TPR):\n",
    "    annot_indices = []\n",
    "    annot_indices.append(acc.index(min(acc)))\n",
    "    annot_indices.append(acc.index(max(acc)))\n",
    "    annot_indices.append(TPR.index(max(TPR)))\n",
    "    return annot_indices"
   ]
  },
  {
   "cell_type": "markdown",
   "id": "4445982c-e941-4d57-8292-bc5adea07d25",
   "metadata": {},
   "source": [
    "<a id=\"plot_multi_roc\"></a>\n",
    "## plot_multi_roc\n",
    "*The plot_multi_roc function displays the ROC curves for multiple models on the same plot.*\n",
    "\n",
    "* **roc_data** Dict[str, Tuple[List[float]]]: the roc_data is a dictionary with the models as the keys and a tuple containing (FPRs, TPRs) for the values. \n",
    "\n",
    "**returns** None."
   ]
  },
  {
   "cell_type": "code",
   "execution_count": 16,
   "id": "b8a8282b-4dab-46f4-bb81-6a3fc3dc827d",
   "metadata": {},
   "outputs": [],
   "source": [
    "def plot_multi_roc(roc_data: Dict[str, Tuple[List[float]]]) -> None:\n",
    "    fig, ax = plt.subplots(dpi=72)\n",
    "    \n",
    "    # plotting the coin flip line\n",
    "    plt.plot([0, 1], [0, 1], linestyle='--', color=(0.6, 0.6, 0.6), label='coin flip')\n",
    "    \n",
    "    # loop through each model's ROC data and plot\n",
    "    for model_name, (FPR, TPR) in roc_data.items():\n",
    "        FPR, TPR = zip(*sorted(zip(FPR, TPR)))\n",
    "        fpr = [0.] + list(FPR) + [1.]\n",
    "        tpr = [0.] + list(TPR) + [1.]\n",
    "    \n",
    "        plt.plot(fpr, tpr, label=model_name)\n",
    "        \n",
    "    plt.xlabel('False Positive Rate')\n",
    "    plt.ylabel('True Positive Rate')\n",
    "    plt.legend(loc='lower right')\n",
    "    plt.grid()\n",
    "    plt.show()"
   ]
  },
  {
   "cell_type": "markdown",
   "id": "72f7abec-6088-45ad-8954-6faffc7cbffd",
   "metadata": {},
   "source": [
    "<a id=\"decision_tree\"></a>\n",
    "## decision_tree\n",
    "\n",
    "*The decision_tree function trains and evaluates a decision tree using the provided training and test sets. The function returns the accuracy, tn, fp, fn, tp for the test set.*\n",
    "\n",
    "* **x_train np.array:** the training dataset\n",
    "* **y_train np.array:** the training labels\n",
    "* **x_test np.array:** the testing dataset\n",
    "* **y_test np.array:** the testing labels\n",
    "* **params Dict[str, Any]:** a dictionary of parameters to pass to the model function\n",
    "\n",
    "returns Tuple[float | int]"
   ]
  },
  {
   "cell_type": "code",
   "execution_count": 17,
   "id": "2b99f0a8-eea2-44eb-97c7-5da7c251c22f",
   "metadata": {},
   "outputs": [],
   "source": [
    "def decision_tree(x_train: np.array, x_test: np.array, y_train: np.array, y_test: np.array, params: Dict[str, Any]) -> Tuple[float | int]:\n",
    "    # get hyperparameters\n",
    "    depth = None\n",
    "    num_features = None\n",
    "    if \"max_depth\" in params:\n",
    "        depth = params[\"max_depth\"]\n",
    "    if \"max_features\" in params:\n",
    "        num_features = params[\"max_features\"]\n",
    "        \n",
    "    # initialize and train the model \n",
    "    decision_tree = tree.DecisionTreeClassifier(max_depth = depth, max_features = num_features)\n",
    "    tree_model = decision_tree.fit(x_train, y_train)\n",
    "    \n",
    "    # get predictions\n",
    "    test_predictions = tree_model.predict(x_test)\n",
    "    # get evaluation metrics\n",
    "    test_accuracy = round(100 * accuracy_score(y_test, test_predictions), 3)\n",
    "    tn, fp, fn, tp = confusion_matrix(y_test, test_predictions).ravel()\n",
    "       \n",
    "    return test_accuracy, tn, fp, fn, tp"
   ]
  },
  {
   "cell_type": "markdown",
   "id": "de339196-a382-43fe-8266-3ee31fe3d2f0",
   "metadata": {},
   "source": [
    "<a id=\"random_forest\"></a>\n",
    "## random_forest\n",
    "\n",
    "*The random_forest function trains and evaluates a random forest classifier using the provided training and test sets. The function returns the accuracy, tn, fp, fn, tp for the test set.*\n",
    "\n",
    "* **x_train np.array:** the training dataset\n",
    "* **y_train np.array:** the training labels\n",
    "* **x_test np.array:** the testing dataset\n",
    "* **y_test np.array:** the testing labels\n",
    "* **params Dict[str, Any]:** a dictionary of parameters to pass to the model function\n",
    "\n",
    "returns Tuple[float | int]"
   ]
  },
  {
   "cell_type": "code",
   "execution_count": 18,
   "id": "b72f5ef8-0304-4892-bcec-b11687df2a59",
   "metadata": {},
   "outputs": [],
   "source": [
    "def random_forest(x_train: np.array, x_test: np.array, y_train: np.array, y_test: np.array, params: Dict[str, Any]) -> Tuple[float | int]:\n",
    "    # get hyperparameters\n",
    "    depth = None\n",
    "    num_features = None\n",
    "    estimators = None\n",
    "    \n",
    "    if \"max_depth\" in params:\n",
    "        depth = params[\"max_depth\"]\n",
    "    if \"max_features\" in params:\n",
    "        num_features = params[\"max_features\"]\n",
    "    if \"n_estimators\" in params:\n",
    "        estimators = params[\"n_estimators\"]\n",
    "    \n",
    "    # initialize and train the model\n",
    "    forest = RandomForestClassifier(n_estimators=estimators, \n",
    "                                    max_depth=depth, \n",
    "                                    max_features = num_features, \n",
    "                                    random_state=0, \n",
    "                                    n_jobs=4)\n",
    "    forest.fit(x_train, y_train)\n",
    "    \n",
    "    # get test predictions \n",
    "    test_predictions = forest.predict(x_test)\n",
    "    # get evaluatin metrics\n",
    "    test_accuracy = round(100 * accuracy_score(y_test, test_predictions), 3)\n",
    "    tn, fp, fn, tp = confusion_matrix(y_test, test_predictions).ravel()\n",
    " \n",
    "    return test_accuracy, tn, fp, fn, tp"
   ]
  },
  {
   "cell_type": "markdown",
   "id": "718c2de4-80b0-4128-acc8-2e331cb5e637",
   "metadata": {},
   "source": [
    "<a id=\"MLP\"></a>\n",
    "## MLP\n",
    "\n",
    "*The MLP function trains and evaluates a multilayer perceptron using the provided training and test sets. The function returns the accuracy, tn, fp, fn, tp for the test set.*\n",
    "\n",
    "* **x_train np.array:** the training dataset\n",
    "* **y_train np.array:** the training labels\n",
    "* **x_test np.array:** the testing dataset\n",
    "* **y_test np.array:** the testing labels\n",
    "* **params Dict[str, Any]:** a dictionary of parameters to pass to the model function\n",
    "\n",
    "returns Tuple[float | int]"
   ]
  },
  {
   "cell_type": "code",
   "execution_count": 19,
   "id": "9bd35e6a-4a61-4bd5-acb2-823a23b056ca",
   "metadata": {},
   "outputs": [],
   "source": [
    "def MLP(x_train: np.array, x_test: np.array, y_train: np.array, y_test: np.array, params: Dict[str, Any]) -> Tuple[float | int]:\n",
    "    # set some defaults and get the hyperparameters\n",
    "    layer_size = (10,)\n",
    "    learning_rate = 0.001\n",
    "    max_iterations = 1000\n",
    "    \n",
    "    if \"max_iterations\" in params:\n",
    "        max_iterations = params[\"max_iterations\"]\n",
    "    if \"learning_rate_init\" in params:\n",
    "        learning_rate = params[\"learning_rate_init\"]\n",
    "    if \"layer_size\" in params:\n",
    "        layer_size = params[\"layer_size\"]\n",
    "    \n",
    "    \n",
    "    # initialize and train the model\n",
    "    mlp = MLPClassifier(random_state=1, \n",
    "                        max_iter=max_iterations, \n",
    "                        solver='sgd', \n",
    "                        hidden_layer_sizes=layer_size, \n",
    "                        learning_rate='adaptive',\n",
    "                        learning_rate_init=learning_rate)\n",
    "    \n",
    "    mlp.fit(x_train, y_train)\n",
    "    \n",
    "    # get predictions\n",
    "    test_predictions = mlp.predict(x_test)\n",
    "    # get evaluation metrics\n",
    "    test_accuracy = round(100 * accuracy_score(y_test, test_predictions), 3)\n",
    "    tn, fp, fn, tp = confusion_matrix(y_test, test_predictions).ravel()\n",
    " \n",
    "    return test_accuracy, round(tn, 3), round(fp, 3), round(fn, 3), round(tp, 3)"
   ]
  },
  {
   "cell_type": "markdown",
   "id": "872773b0-bf20-4cc8-9571-2e791c059c4b",
   "metadata": {},
   "source": [
    "<a id=\"format_results\"></a>\n",
    "## format_results\n",
    "*The format_results function formats the accuracies, true positive rates, and false positive rates in a dataframe with the corresponding parameters for easy visualization.*\n",
    "\n",
    "* **parameter_names** List[str]: a list of parameters used\n",
    "* **parameters** Dict[str, Any]: the parameters used for each experiment\n",
    "* **accuracies** List[float]: a list of accuracies for the different models\n",
    "* **FPR** List[float]: a list of false positive rates for the different experiments\n",
    "* **TPR** List[float]: a list of true positive rates for the different experiments\n",
    "\n",
    "**returns** pd.DataFrame."
   ]
  },
  {
   "cell_type": "code",
   "execution_count": 20,
   "id": "907ddfaf-d300-4352-a012-cf5c80f219b1",
   "metadata": {},
   "outputs": [],
   "source": [
    "def format_results(parameter_names: List[str], parameters: Dict[str, Any], accuracies: List[float], TPR: List[float], FPR: List[float]) -> pd.DataFrame:\n",
    "    df = pd.DataFrame()\n",
    "    df[\"% Accuracy\"] = accuracies\n",
    "    df[\"TPR\"] = TPR\n",
    "    df[\"FPR\"] = FPR\n",
    "    for parameter in parameter_names:\n",
    "        df[parameter] = [val[parameter] for val in parameters]\n",
    "    return df"
   ]
  },
  {
   "cell_type": "markdown",
   "id": "d71cf32a-783a-4575-88c5-9de2aa5e9ed5",
   "metadata": {},
   "source": [
    "<a id=\"display_results\"></a>\n",
    "## display_results\n",
    "*The display_results function adds some html to provide a better visualization of the results dataframe.*\n",
    "\n",
    "* **df** pd.DataFrame: the dataframe of results\n",
    "* **title** str: the dataframe title\n",
    "\n",
    "**returns** None."
   ]
  },
  {
   "cell_type": "code",
   "execution_count": 21,
   "id": "28d02493-5bbe-4234-8b5b-8d96018576ed",
   "metadata": {},
   "outputs": [],
   "source": [
    "def display_results(df: pd.DataFrame, title: str) -> None:\n",
    "    title_html = f\"<h4 style='text-align:center;'>{title}</h4>\"\n",
    "    df_html = df.to_html(index=False)\n",
    "    combined = f\"<div style='display:inline-block;'>{title_html}{df_html}</div>\"\n",
    "    display(HTML(combined))"
   ]
  },
  {
   "cell_type": "markdown",
   "id": "d79bd019-b9f5-4d1f-adc3-964157788236",
   "metadata": {},
   "source": [
    "## Model Evaluation with ROC Curves"
   ]
  },
  {
   "cell_type": "markdown",
   "id": "93188311-f273-4cb4-8824-2b6a193eca37",
   "metadata": {},
   "source": [
    "### Decision Tree"
   ]
  },
  {
   "cell_type": "code",
   "execution_count": 22,
   "id": "a9884006-ff73-421a-9505-88e35b51d5ab",
   "metadata": {},
   "outputs": [],
   "source": [
    "# initialize test parameters\n",
    "d = [3, 7, 13]\n",
    "max_features = [3, 6, 12, 20]\n",
    "dt_TPR, dt_FPR, dt_acc, dt_params = [], [], [], []\n",
    "\n",
    "# run experiments using 5-fold validation \n",
    "for depth in d:\n",
    "    for num in max_features:\n",
    "        # run k-fold\n",
    "        kf = KFold(n_splits=5, random_state=1, shuffle=True)\n",
    "        accs, TPRs, FPRs = [], [], []\n",
    "        \n",
    "        for i, (train_index, test_index) in enumerate(kf.split(titles_train, y_train)):\n",
    "            accuracy, tn, fp, fn, tp = decision_tree(titles_train[train_index], \n",
    "                                                     titles_train[test_index], \n",
    "                                                     y_train[train_index], \n",
    "                                                     y_train[test_index], \n",
    "                                                     {\"max_depth\": depth, \n",
    "                                                      \"max_features\": num})\n",
    "            accs.append(accuracy)\n",
    "            TPRs.append(tp/(tp+fn))\n",
    "            FPRs.append(fp/(fp+tn))\n",
    "             \n",
    "        dt_params.append({\"max_depth\": depth, \"max_features\": num})\n",
    "        dt_acc.append(sum(accs)/len(accs))\n",
    "        dt_TPR.append(sum(TPRs)/len(TPRs))\n",
    "        dt_FPR.append(sum(FPRs)/len(FPRs))  "
   ]
  },
  {
   "cell_type": "code",
   "execution_count": 23,
   "id": "d7ec6cb3-5582-431d-b58b-e504b224994e",
   "metadata": {},
   "outputs": [
    {
     "data": {
      "text/html": [
       "<div style='display:inline-block;'><h4 style='text-align:center;'>Decision Tree Results</h4><table border=\"1\" class=\"dataframe\">\n",
       "  <thead>\n",
       "    <tr style=\"text-align: right;\">\n",
       "      <th>% Accuracy</th>\n",
       "      <th>TPR</th>\n",
       "      <th>FPR</th>\n",
       "      <th>max_depth</th>\n",
       "      <th>max_features</th>\n",
       "    </tr>\n",
       "  </thead>\n",
       "  <tbody>\n",
       "    <tr>\n",
       "      <td>54.4462</td>\n",
       "      <td>0.820595</td>\n",
       "      <td>0.757346</td>\n",
       "      <td>3</td>\n",
       "      <td>3</td>\n",
       "    </tr>\n",
       "    <tr>\n",
       "      <td>65.6742</td>\n",
       "      <td>0.528565</td>\n",
       "      <td>0.196447</td>\n",
       "      <td>3</td>\n",
       "      <td>6</td>\n",
       "    </tr>\n",
       "    <tr>\n",
       "      <td>65.0008</td>\n",
       "      <td>0.489629</td>\n",
       "      <td>0.174799</td>\n",
       "      <td>3</td>\n",
       "      <td>12</td>\n",
       "    </tr>\n",
       "    <tr>\n",
       "      <td>70.2014</td>\n",
       "      <td>0.475460</td>\n",
       "      <td>0.046889</td>\n",
       "      <td>3</td>\n",
       "      <td>20</td>\n",
       "    </tr>\n",
       "    <tr>\n",
       "      <td>63.8594</td>\n",
       "      <td>0.335501</td>\n",
       "      <td>0.026668</td>\n",
       "      <td>7</td>\n",
       "      <td>3</td>\n",
       "    </tr>\n",
       "    <tr>\n",
       "      <td>68.5704</td>\n",
       "      <td>0.655571</td>\n",
       "      <td>0.283397</td>\n",
       "      <td>7</td>\n",
       "      <td>6</td>\n",
       "    </tr>\n",
       "    <tr>\n",
       "      <td>72.5098</td>\n",
       "      <td>0.496479</td>\n",
       "      <td>0.022994</td>\n",
       "      <td>7</td>\n",
       "      <td>12</td>\n",
       "    </tr>\n",
       "    <tr>\n",
       "      <td>75.4720</td>\n",
       "      <td>0.573675</td>\n",
       "      <td>0.045906</td>\n",
       "      <td>7</td>\n",
       "      <td>20</td>\n",
       "    </tr>\n",
       "    <tr>\n",
       "      <td>69.3746</td>\n",
       "      <td>0.467885</td>\n",
       "      <td>0.057939</td>\n",
       "      <td>13</td>\n",
       "      <td>3</td>\n",
       "    </tr>\n",
       "    <tr>\n",
       "      <td>72.3732</td>\n",
       "      <td>0.560647</td>\n",
       "      <td>0.096836</td>\n",
       "      <td>13</td>\n",
       "      <td>6</td>\n",
       "    </tr>\n",
       "    <tr>\n",
       "      <td>76.3932</td>\n",
       "      <td>0.589256</td>\n",
       "      <td>0.043302</td>\n",
       "      <td>13</td>\n",
       "      <td>12</td>\n",
       "    </tr>\n",
       "    <tr>\n",
       "      <td>79.1858</td>\n",
       "      <td>0.634450</td>\n",
       "      <td>0.034617</td>\n",
       "      <td>13</td>\n",
       "      <td>20</td>\n",
       "    </tr>\n",
       "  </tbody>\n",
       "</table></div>"
      ],
      "text/plain": [
       "<IPython.core.display.HTML object>"
      ]
     },
     "metadata": {},
     "output_type": "display_data"
    }
   ],
   "source": [
    "results = format_results([\"max_depth\", \"max_features\"], dt_params, dt_acc, dt_TPR, dt_FPR)\n",
    "display_results(results, \"Decision Tree Results\")"
   ]
  },
  {
   "cell_type": "code",
   "execution_count": 24,
   "id": "2c97da5e-a175-4361-9ce9-807eca47dd61",
   "metadata": {},
   "outputs": [
    {
     "name": "stdout",
     "output_type": "stream",
     "text": [
      "Number of operating points: 12\n"
     ]
    },
    {
     "data": {
      "image/png": "[encoded data removed]",
      "text/plain": [
       "<Figure size 460.8x345.6 with 1 Axes>"
      ]
     },
     "metadata": {},
     "output_type": "display_data"
    }
   ],
   "source": [
    "# get annotation incides for min acc, max acc, and max TPR\n",
    "dt_annot_indices = get_annot_indices(dt_acc, dt_TPR)\n",
    "\n",
    "print(f\"Number of operating points: {len(dt_TPR)}\")\n",
    "plot_roc(dt_FPR, dt_TPR, dt_annot_indices)"
   ]
  },
  {
   "cell_type": "markdown",
   "id": "47b4daa8-47f5-42d2-928c-7b6b79a58fb1",
   "metadata": {},
   "source": [
    "### Random Forest"
   ]
  },
  {
   "cell_type": "code",
   "execution_count": 25,
   "id": "6fb1d069-4ac2-492e-86f2-32917de13753",
   "metadata": {},
   "outputs": [],
   "source": [
    "# initialize test hyperparameters\n",
    "d = [3, 21]\n",
    "max_features = [3, 12, 21]\n",
    "estimators = [i for i in range(20, 100, 60)]\n",
    "\n",
    "rf_TPR, rf_FPR, rf_acc, rf_params = [], [], [], []\n",
    "# run experiments using 5-fold validation\n",
    "for depth in d:\n",
    "    for num in max_features:\n",
    "        for est in estimators:\n",
    "            kf = KFold(n_splits=5, random_state=1, shuffle=True)\n",
    "            accs, TPRs, FPRs = [], [], []\n",
    "            for i, (train_index, test_index) in enumerate(kf.split(titles_train, y_train)):\n",
    "                accuracy, tn, fp, fn, tp = random_forest(titles_train[train_index], \n",
    "                                                         titles_train[test_index], \n",
    "                                                         y_train[train_index], \n",
    "                                                         y_train[test_index], \n",
    "                                                         {\"max_depth\": depth, \n",
    "                                                          \"max_features\": num,\n",
    "                                                          \"n_estimators\": est})\n",
    "                accs.append(accuracy)\n",
    "                TPRs.append(tp/(tp+fn))\n",
    "                FPRs.append(fp/(fp+tn))\n",
    "                \n",
    "            rf_params.append({\"max_depth\": depth, \"max_features\": num, \"n_estimators\": est})\n",
    "            rf_acc.append(sum(accs)/len(accs))\n",
    "            rf_TPR.append(sum(TPRs)/len(TPRs))\n",
    "            rf_FPR.append(sum(FPRs)/len(FPRs))   "
   ]
  },
  {
   "cell_type": "code",
   "execution_count": 26,
   "id": "44a4f10f-bbdf-4b6d-b43a-94fb40b24ff5",
   "metadata": {},
   "outputs": [
    {
     "name": "stdout",
     "output_type": "stream",
     "text": [
      "Number of operating points: 12\n"
     ]
    },
    {
     "data": {
      "text/html": [
       "<div style='display:inline-block;'><h4 style='text-align:center;'>Random Forest Results</h4><table border=\"1\" class=\"dataframe\">\n",
       "  <thead>\n",
       "    <tr style=\"text-align: right;\">\n",
       "      <th>% Accuracy</th>\n",
       "      <th>TPR</th>\n",
       "      <th>FPR</th>\n",
       "      <th>max_depth</th>\n",
       "      <th>max_features</th>\n",
       "      <th>n_estimators</th>\n",
       "    </tr>\n",
       "  </thead>\n",
       "  <tbody>\n",
       "    <tr>\n",
       "      <td>74.2246</td>\n",
       "      <td>0.838001</td>\n",
       "      <td>0.362020</td>\n",
       "      <td>3</td>\n",
       "      <td>3</td>\n",
       "      <td>20</td>\n",
       "    </tr>\n",
       "    <tr>\n",
       "      <td>76.7078</td>\n",
       "      <td>0.823483</td>\n",
       "      <td>0.293214</td>\n",
       "      <td>3</td>\n",
       "      <td>3</td>\n",
       "      <td>80</td>\n",
       "    </tr>\n",
       "    <tr>\n",
       "      <td>77.4042</td>\n",
       "      <td>0.598971</td>\n",
       "      <td>0.032895</td>\n",
       "      <td>3</td>\n",
       "      <td>12</td>\n",
       "      <td>20</td>\n",
       "    </tr>\n",
       "    <tr>\n",
       "      <td>76.4602</td>\n",
       "      <td>0.576680</td>\n",
       "      <td>0.028152</td>\n",
       "      <td>3</td>\n",
       "      <td>12</td>\n",
       "      <td>80</td>\n",
       "    </tr>\n",
       "    <tr>\n",
       "      <td>73.2196</td>\n",
       "      <td>0.494568</td>\n",
       "      <td>0.005789</td>\n",
       "      <td>3</td>\n",
       "      <td>21</td>\n",
       "      <td>20</td>\n",
       "    </tr>\n",
       "    <tr>\n",
       "      <td>73.2280</td>\n",
       "      <td>0.494730</td>\n",
       "      <td>0.005789</td>\n",
       "      <td>3</td>\n",
       "      <td>21</td>\n",
       "      <td>80</td>\n",
       "    </tr>\n",
       "    <tr>\n",
       "      <td>81.5552</td>\n",
       "      <td>0.696812</td>\n",
       "      <td>0.053488</td>\n",
       "      <td>21</td>\n",
       "      <td>3</td>\n",
       "      <td>20</td>\n",
       "    </tr>\n",
       "    <tr>\n",
       "      <td>81.6026</td>\n",
       "      <td>0.698022</td>\n",
       "      <td>0.053854</td>\n",
       "      <td>21</td>\n",
       "      <td>3</td>\n",
       "      <td>80</td>\n",
       "    </tr>\n",
       "    <tr>\n",
       "      <td>81.2460</td>\n",
       "      <td>0.685763</td>\n",
       "      <td>0.047820</td>\n",
       "      <td>21</td>\n",
       "      <td>12</td>\n",
       "      <td>20</td>\n",
       "    </tr>\n",
       "    <tr>\n",
       "      <td>81.3520</td>\n",
       "      <td>0.687570</td>\n",
       "      <td>0.047591</td>\n",
       "      <td>21</td>\n",
       "      <td>12</td>\n",
       "      <td>80</td>\n",
       "    </tr>\n",
       "    <tr>\n",
       "      <td>81.2824</td>\n",
       "      <td>0.686396</td>\n",
       "      <td>0.047759</td>\n",
       "      <td>21</td>\n",
       "      <td>21</td>\n",
       "      <td>20</td>\n",
       "    </tr>\n",
       "    <tr>\n",
       "      <td>81.2824</td>\n",
       "      <td>0.685920</td>\n",
       "      <td>0.047235</td>\n",
       "      <td>21</td>\n",
       "      <td>21</td>\n",
       "      <td>80</td>\n",
       "    </tr>\n",
       "  </tbody>\n",
       "</table></div>"
      ],
      "text/plain": [
       "<IPython.core.display.HTML object>"
      ]
     },
     "metadata": {},
     "output_type": "display_data"
    }
   ],
   "source": [
    "rf_results = format_results([\"max_depth\", \"max_features\", \"n_estimators\"], rf_params, rf_acc, rf_TPR, rf_FPR)\n",
    "print(f\"Number of operating points: {len(rf_TPR)}\")\n",
    "display_results(rf_results, \"Random Forest Results\")"
   ]
  },
  {
   "cell_type": "code",
   "execution_count": 27,
   "id": "866446b6-542b-49a3-bad3-5fc0e8b9ad35",
   "metadata": {},
   "outputs": [
    {
     "name": "stdout",
     "output_type": "stream",
     "text": [
      "Number of operating points: 12\n"
     ]
    },
    {
     "data": {
      "image/png": "[encoded data removed]",
      "text/plain": [
       "<Figure size 460.8x345.6 with 1 Axes>"
      ]
     },
     "metadata": {},
     "output_type": "display_data"
    }
   ],
   "source": [
    "# get annotation indicies\n",
    "rf_annot_indices = get_annot_indices(rf_acc, rf_TPR)\n",
    "\n",
    "print(f\"Number of operating points: {len(rf_TPR)}\")\n",
    "plot_roc(rf_FPR, rf_TPR, rf_annot_indices)"
   ]
  },
  {
   "cell_type": "markdown",
   "id": "7d541dd9-460f-40bd-a70b-29014bf0aaf4",
   "metadata": {},
   "source": [
    "### Neural Network"
   ]
  },
  {
   "cell_type": "code",
   "execution_count": 28,
   "id": "85379de7-3377-4a86-892f-9d2723e18442",
   "metadata": {},
   "outputs": [],
   "source": [
    "# initialize test hyperparameters\n",
    "layer_sizes = [(1, ), (5, ), (10, )]\n",
    "learning_rates = [0.01, 0.0001, 0.00001]\n",
    "max_iterations = [5000]\n",
    "\n",
    "nn_TPR, nn_FPR, nn_acc, nn_params = [], [], [], []\n",
    "# run experiments using 5-fold validation\n",
    "for layer in layer_sizes:\n",
    "    for lr in learning_rates:\n",
    "        for max_iter in max_iterations:\n",
    "            kf = KFold(n_splits=5, random_state=1, shuffle=True)\n",
    "            accs, TPRs, FPRs = [], [], []\n",
    "\n",
    "            for i, (train_index, test_index) in enumerate(kf.split(titles_train, y_train)):\n",
    "                accuracy, tn, fp, fn, tp = MLP(titles_train[train_index], \n",
    "                                               titles_train[test_index], \n",
    "                                               y_train[train_index], \n",
    "                                               y_train[test_index],  \n",
    "                                               {\"layer_size\": layer, \n",
    "                                                \"learning_rate_init\": lr,\n",
    "                                                \"max_iterations\": max_iter})\n",
    "                accs.append(accuracy)\n",
    "                TPRs.append(tp/(tp+fn))\n",
    "                FPRs.append(fp/(fp+tn))\n",
    "\n",
    "            nn_params.append({\"layer_size\": layer, \"learning_rate\": lr, \"max_iterations\": max_iter})\n",
    "            nn_acc.append(sum(accs)/len(accs))\n",
    "            nn_TPR.append(sum(TPRs)/len(TPRs))\n",
    "            nn_FPR.append(sum(FPRs)/len(FPRs)) "
   ]
  },
  {
   "cell_type": "code",
   "execution_count": 29,
   "id": "78004c88-9fce-4044-8949-62812c04ee33",
   "metadata": {},
   "outputs": [
    {
     "name": "stdout",
     "output_type": "stream",
     "text": [
      "Number of operating points: 9\n"
     ]
    },
    {
     "data": {
      "text/html": [
       "<div style='display:inline-block;'><h4 style='text-align:center;'>Neural Network Results</h4><table border=\"1\" class=\"dataframe\">\n",
       "  <thead>\n",
       "    <tr style=\"text-align: right;\">\n",
       "      <th>% Accuracy</th>\n",
       "      <th>TPR</th>\n",
       "      <th>FPR</th>\n",
       "      <th>layer_size</th>\n",
       "      <th>learning_rate</th>\n",
       "      <th>max_iterations</th>\n",
       "    </tr>\n",
       "  </thead>\n",
       "  <tbody>\n",
       "    <tr>\n",
       "      <td>81.2070</td>\n",
       "      <td>0.703833</td>\n",
       "      <td>0.068621</td>\n",
       "      <td>(1,)</td>\n",
       "      <td>0.01000</td>\n",
       "      <td>5000</td>\n",
       "    </tr>\n",
       "    <tr>\n",
       "      <td>81.3324</td>\n",
       "      <td>0.705709</td>\n",
       "      <td>0.068024</td>\n",
       "      <td>(1,)</td>\n",
       "      <td>0.00010</td>\n",
       "      <td>5000</td>\n",
       "    </tr>\n",
       "    <tr>\n",
       "      <td>77.3986</td>\n",
       "      <td>0.635037</td>\n",
       "      <td>0.072852</td>\n",
       "      <td>(1,)</td>\n",
       "      <td>0.00001</td>\n",
       "      <td>5000</td>\n",
       "    </tr>\n",
       "    <tr>\n",
       "      <td>81.5412</td>\n",
       "      <td>0.708697</td>\n",
       "      <td>0.066892</td>\n",
       "      <td>(5,)</td>\n",
       "      <td>0.01000</td>\n",
       "      <td>5000</td>\n",
       "    </tr>\n",
       "    <tr>\n",
       "      <td>81.0234</td>\n",
       "      <td>0.708150</td>\n",
       "      <td>0.077222</td>\n",
       "      <td>(5,)</td>\n",
       "      <td>0.00010</td>\n",
       "      <td>5000</td>\n",
       "    </tr>\n",
       "    <tr>\n",
       "      <td>77.0310</td>\n",
       "      <td>0.732801</td>\n",
       "      <td>0.188287</td>\n",
       "      <td>(5,)</td>\n",
       "      <td>0.00001</td>\n",
       "      <td>5000</td>\n",
       "    </tr>\n",
       "    <tr>\n",
       "      <td>81.5412</td>\n",
       "      <td>0.713252</td>\n",
       "      <td>0.071954</td>\n",
       "      <td>(10,)</td>\n",
       "      <td>0.01000</td>\n",
       "      <td>5000</td>\n",
       "    </tr>\n",
       "    <tr>\n",
       "      <td>80.9426</td>\n",
       "      <td>0.705756</td>\n",
       "      <td>0.076303</td>\n",
       "      <td>(10,)</td>\n",
       "      <td>0.00010</td>\n",
       "      <td>5000</td>\n",
       "    </tr>\n",
       "    <tr>\n",
       "      <td>76.3098</td>\n",
       "      <td>0.776017</td>\n",
       "      <td>0.249725</td>\n",
       "      <td>(10,)</td>\n",
       "      <td>0.00001</td>\n",
       "      <td>5000</td>\n",
       "    </tr>\n",
       "  </tbody>\n",
       "</table></div>"
      ],
      "text/plain": [
       "<IPython.core.display.HTML object>"
      ]
     },
     "metadata": {},
     "output_type": "display_data"
    }
   ],
   "source": [
    "nn_results = format_results([\"layer_size\", \"learning_rate\", \"max_iterations\"], nn_params, nn_acc, nn_TPR, nn_FPR)\n",
    "print(f\"Number of operating points: {len(nn_TPR)}\")\n",
    "display_results(nn_results, \"Neural Network Results\")"
   ]
  },
  {
   "cell_type": "code",
   "execution_count": 30,
   "id": "6397f2d3-6b69-4056-b176-fc5d7e1d27a6",
   "metadata": {},
   "outputs": [
    {
     "name": "stdout",
     "output_type": "stream",
     "text": [
      "Number of operating points: 9\n"
     ]
    },
    {
     "data": {
      "image/png": "[encoded data removed]",
      "text/plain": [
       "<Figure size 460.8x345.6 with 1 Axes>"
      ]
     },
     "metadata": {},
     "output_type": "display_data"
    }
   ],
   "source": [
    "# get annotation indices\n",
    "nn_annot_indices = get_annot_indices(nn_acc, nn_TPR)\n",
    "\n",
    "print(f\"Number of operating points: {len(nn_TPR)}\")\n",
    "plot_roc(nn_FPR, nn_TPR, nn_annot_indices)"
   ]
  },
  {
   "cell_type": "markdown",
   "id": "8af9259b-b8e0-4ffb-976c-07bb86af16f9",
   "metadata": {},
   "source": [
    "### Display all models on the same plot"
   ]
  },
  {
   "cell_type": "code",
   "execution_count": 31,
   "id": "2c4177b0-3ccc-46a5-881b-706bacbf54fc",
   "metadata": {},
   "outputs": [
    {
     "data": {
      "image/png": "[encoded data removed]",
      "text/plain": [
       "<Figure size 460.8x345.6 with 1 Axes>"
      ]
     },
     "metadata": {},
     "output_type": "display_data"
    }
   ],
   "source": [
    "# plot the ROC curves on the same plot\n",
    "model_roc_data = {\n",
    "    'Decision Tree': (dt_FPR, dt_TPR),\n",
    "    'Random Forest': (rf_FPR, rf_TPR),\n",
    "    'Neural Network': (nn_FPR, nn_TPR)\n",
    "}\n",
    "\n",
    "plot_multi_roc(model_roc_data)"
   ]
  },
  {
   "cell_type": "markdown",
   "id": "670652fa-b3aa-41d3-aced-1cdbaa808a32",
   "metadata": {},
   "source": [
    "On an ROC plot, the probability of false alarm (pf) generally increases with the probability of detection (pd). The charts above demonstrate this behavior for the random forest and neural network models. The decision tree has some noise at the beginning of the ROC plot, where TPR decreases and FPR increases. However, the decision tree ROC curve generally follows the trend of pf increasing with pd. "
   ]
  },
  {
   "cell_type": "markdown",
   "id": "d02f0491-9652-45a6-81f5-e30197aec5d7",
   "metadata": {},
   "source": [
    "False positive predictions and false negative predictions both have adverse effects on the problem of classifying fake news. For example, both error cases could influence elections or cause people to believe inaccurate information about an infectious disease. If an article said that COVID-19 cases are increasing, and the model inaccurately classified this information as fake, people could spread COVID-19 faster by not wearing masks. Similarly, if an article said that COVID-19 is over, and the model inaccurately classified this as true, people could spread the disease faster. Therefore, the optimal classifier for this problem should have a high TPR and a low FPR. The accuracy metric shown in the results table provides a good second evaluation because the classes are balanced, and neither error case is more severe than the other. The results show that the accuracy metric agrees with the best trade-off between TPR and FPR.\n",
    "\n",
    "Based on the above analysis, I would select the random forest model with a max_depth of 21, max_features of 3, and n_estimators of 20. This model had comparable performance to the random forest models that used a higher number of features and more trees. Therefore, the simpler model is preferred in this case. The neural network achieved comparable results with only a slightly higher TPR and a higher FPR. The decision tree did not perform as well as the other two models. The following section runs the selected random forest model on the test set for a final evaluation."
   ]
  },
  {
   "cell_type": "code",
   "execution_count": 32,
   "id": "7eadfc52-9393-4371-806d-7ff622fa2b4c",
   "metadata": {},
   "outputs": [
    {
     "name": "stdout",
     "output_type": "stream",
     "text": [
      "Accuracy: 81.247, TPR: 0.6896922745857542, FPR: 0.05585045003461805\n"
     ]
    }
   ],
   "source": [
    "# run a final evaluation against the test set held-out during hyperparameter tuning\n",
    "accuracy, tn, fp, fn, tp = random_forest(titles_train, \n",
    "                                         titles_test, \n",
    "                                         y_train, \n",
    "                                         y_test, \n",
    "                                         {\"max_depth\": 21, \n",
    "                                          \"max_features\": 3,\n",
    "                                          \"n_estimators\": 20})\n",
    "\n",
    "print(f\"Accuracy: {accuracy}, TPR: {tp/(tp+fn)}, FPR: {fp/(fp+tn)}\")"
   ]
  },
  {
   "cell_type": "markdown",
   "id": "6a14d3f4-dbff-4b71-94fe-d5b1fc70b27d",
   "metadata": {},
   "source": [
    "### Test with the Title and Text Columns"
   ]
  },
  {
   "cell_type": "code",
   "execution_count": 33,
   "id": "f82c7ce8-af68-4072-9c8a-dbc150c32896",
   "metadata": {},
   "outputs": [
    {
     "name": "stdout",
     "output_type": "stream",
     "text": [
      "Titles Features:\n",
      "['america' 'anti' 'black' 'breaking' 'calls' 'campaign' 'china' 'clinton'\n",
      " 'cnn' 'court' 'deal' 'democrats' 'donald' 'election' 'eu' 'fbi' 'gets'\n",
      " 'gop' 'government' 'hillary' 'house' 'iran' 'just' 'korea' 'media'\n",
      " 'muslim' 'new' 'news' 'north' 'obama' 'party' 'people' 'police'\n",
      " 'president' 'republican' 'republicans' 'russia' 'russian' 'says' 'senate'\n",
      " 'state' 'syria' 'tax' 'trump' 'tweets' 'video' 'vote' 'war' 'watch'\n",
      " 'white']\n",
      "Text Features:\n",
      "['according' 'administration' 'america' 'american' 'campaign' 'clinton'\n",
      " 'country' 'court' 'did' 'donald' 'election' 'going' 'government'\n",
      " 'hillary' 'house' 'just' 'law' 'like' 'make' 'media' 'national' 'new'\n",
      " 'news' 'obama' 'party' 'people' 'percent' 'police' 'political'\n",
      " 'president' 'presidential' 'republican' 'republicans' 'reuters' 'right'\n",
      " 'russia' 'said' 'say' 'security' 'state' 'states' 'time' 'told' 'trump'\n",
      " 'twitter' 'united' 'washington' 'white' 'year' 'years']\n"
     ]
    }
   ],
   "source": [
    "# create a vectorizer with a max of 50 features \n",
    "vectorizer_titles = TfidfVectorizer(stop_words='english', max_features=50)\n",
    "vectorizer_text = TfidfVectorizer(stop_words='english', max_features=50)\n",
    "\n",
    "# create a copy of the dataset and extract the titles column and class labels\n",
    "news_df_3 = deepcopy(news_df)\n",
    "labels = news_df_3['class']\n",
    "df = news_df_3.drop(\"class\", axis=1)\n",
    "\n",
    "# split train/test data\n",
    "x_train, x_test, y_train_2, y_test_2 = train_test_split(df, labels, test_size=0.20, random_state=14)\n",
    "\n",
    "# transform the text and title columns\n",
    "train_titles = vectorizer_titles.fit_transform(x_train['title'])\n",
    "train_text = vectorizer_text.fit_transform(x_train['text'])\n",
    "test_titles = vectorizer_titles.transform(x_test['title'])\n",
    "test_text = vectorizer_text.transform(x_test['text'])\n",
    "\n",
    "# visualize the 50 features selected\n",
    "titles_features = vectorizer_titles.get_feature_names_out()\n",
    "print(f\"Titles Features:\\n{titles_features}\")\n",
    "text_features = vectorizer_text.get_feature_names_out()\n",
    "print(f\"Text Features:\\n{text_features}\")"
   ]
  },
  {
   "cell_type": "code",
   "execution_count": 34,
   "id": "89b40c94-818b-4f7b-840b-8d61e9308a2e",
   "metadata": {},
   "outputs": [],
   "source": [
    "# combine the features of both columns\n",
    "train_data = sp.hstack([train_titles, train_text])\n",
    "test_data = sp.hstack([test_titles, test_text])\n",
    "\n",
    "y_train_2 = np.array(y_train_2)\n",
    "y_test_2 = np.array(y_test_2)\n",
    "\n",
    "# scale the data to apply the same preprocessing as the tests above\n",
    "scaler = StandardScaler(with_mean=False)\n",
    "titles_train = scaler.fit_transform(train_data)\n",
    "titles_test = scaler.transform(test_data)"
   ]
  },
  {
   "cell_type": "markdown",
   "id": "b70376e5-d250-44ea-952f-1dfdc4274e11",
   "metadata": {},
   "source": [
    "### Random Forest (title, text)"
   ]
  },
  {
   "cell_type": "code",
   "execution_count": 35,
   "id": "f304dd08-3c65-4bf7-b485-904b2d0013c1",
   "metadata": {},
   "outputs": [],
   "source": [
    "# initialize test hyperparameters\n",
    "d = [3, 21]\n",
    "max_features = [3, 12, 21]\n",
    "estimators = [i for i in range(20, 100, 60)]\n",
    "\n",
    "rf_TPR_2, rf_FPR_2, rf_acc_2, rf_params_2 = [], [], [], []\n",
    "# run experiments using 5-fold validation\n",
    "for depth in d:\n",
    "    for num in max_features:\n",
    "        for est in estimators:\n",
    "            kf = KFold(n_splits=5, random_state=1, shuffle=True)\n",
    "            accs, TPRs, FPRs = [], [], []\n",
    "\n",
    "            for i, (train_index, test_index) in enumerate(kf.split(train_data, y_train_2)):\n",
    "                accuracy, tn, fp, fn, tp = random_forest(train_data[train_index], \n",
    "                                                         train_data[test_index], \n",
    "                                                         y_train_2[train_index], \n",
    "                                                         y_train_2[test_index], \n",
    "                                                         {\"max_depth\": depth, \n",
    "                                                          \"max_features\": num,\n",
    "                                                          \"n_estimators\": est})\n",
    "                accs.append(accuracy)\n",
    "                TPRs.append(tp/(tp+fn))\n",
    "                FPRs.append(fp/(fp+tn))\n",
    "                \n",
    "            rf_params_2.append({\"max_depth\": depth, \"max_features\": num, \"n_estimators\": est})\n",
    "            rf_acc_2.append(sum(accs)/len(accs))\n",
    "            rf_TPR_2.append(sum(TPRs)/len(TPRs))\n",
    "            rf_FPR_2.append(sum(FPRs)/len(FPRs))   "
   ]
  },
  {
   "cell_type": "code",
   "execution_count": 36,
   "id": "6d4bd9b3-6b75-4164-9017-7cf9f056090f",
   "metadata": {},
   "outputs": [
    {
     "name": "stdout",
     "output_type": "stream",
     "text": [
      "Number of operating points: 12\n"
     ]
    },
    {
     "data": {
      "text/html": [
       "<div style='display:inline-block;'><h4 style='text-align:center;'>Random Forest Results</h4><table border=\"1\" class=\"dataframe\">\n",
       "  <thead>\n",
       "    <tr style=\"text-align: right;\">\n",
       "      <th>% Accuracy</th>\n",
       "      <th>TPR</th>\n",
       "      <th>FPR</th>\n",
       "      <th>max_depth</th>\n",
       "      <th>max_features</th>\n",
       "      <th>n_estimators</th>\n",
       "    </tr>\n",
       "  </thead>\n",
       "  <tbody>\n",
       "    <tr>\n",
       "      <td>88.8386</td>\n",
       "      <td>0.926657</td>\n",
       "      <td>0.153713</td>\n",
       "      <td>3</td>\n",
       "      <td>3</td>\n",
       "      <td>20</td>\n",
       "    </tr>\n",
       "    <tr>\n",
       "      <td>95.4342</td>\n",
       "      <td>0.971231</td>\n",
       "      <td>0.064221</td>\n",
       "      <td>3</td>\n",
       "      <td>3</td>\n",
       "      <td>80</td>\n",
       "    </tr>\n",
       "    <tr>\n",
       "      <td>99.2622</td>\n",
       "      <td>0.987734</td>\n",
       "      <td>0.001998</td>\n",
       "      <td>3</td>\n",
       "      <td>12</td>\n",
       "      <td>20</td>\n",
       "    </tr>\n",
       "    <tr>\n",
       "      <td>99.2678</td>\n",
       "      <td>0.987682</td>\n",
       "      <td>0.001821</td>\n",
       "      <td>3</td>\n",
       "      <td>12</td>\n",
       "      <td>80</td>\n",
       "    </tr>\n",
       "    <tr>\n",
       "      <td>99.2704</td>\n",
       "      <td>0.988794</td>\n",
       "      <td>0.002990</td>\n",
       "      <td>3</td>\n",
       "      <td>21</td>\n",
       "      <td>20</td>\n",
       "    </tr>\n",
       "    <tr>\n",
       "      <td>99.2676</td>\n",
       "      <td>0.987998</td>\n",
       "      <td>0.002171</td>\n",
       "      <td>3</td>\n",
       "      <td>21</td>\n",
       "      <td>80</td>\n",
       "    </tr>\n",
       "    <tr>\n",
       "      <td>99.0118</td>\n",
       "      <td>0.989244</td>\n",
       "      <td>0.008896</td>\n",
       "      <td>21</td>\n",
       "      <td>3</td>\n",
       "      <td>20</td>\n",
       "    </tr>\n",
       "    <tr>\n",
       "      <td>99.5016</td>\n",
       "      <td>0.994215</td>\n",
       "      <td>0.004104</td>\n",
       "      <td>21</td>\n",
       "      <td>3</td>\n",
       "      <td>80</td>\n",
       "    </tr>\n",
       "    <tr>\n",
       "      <td>99.5350</td>\n",
       "      <td>0.993361</td>\n",
       "      <td>0.002468</td>\n",
       "      <td>21</td>\n",
       "      <td>12</td>\n",
       "      <td>20</td>\n",
       "    </tr>\n",
       "    <tr>\n",
       "      <td>99.5770</td>\n",
       "      <td>0.993949</td>\n",
       "      <td>0.002229</td>\n",
       "      <td>21</td>\n",
       "      <td>12</td>\n",
       "      <td>80</td>\n",
       "    </tr>\n",
       "    <tr>\n",
       "      <td>99.5380</td>\n",
       "      <td>0.993416</td>\n",
       "      <td>0.002468</td>\n",
       "      <td>21</td>\n",
       "      <td>21</td>\n",
       "      <td>20</td>\n",
       "    </tr>\n",
       "    <tr>\n",
       "      <td>99.5574</td>\n",
       "      <td>0.993841</td>\n",
       "      <td>0.002527</td>\n",
       "      <td>21</td>\n",
       "      <td>21</td>\n",
       "      <td>80</td>\n",
       "    </tr>\n",
       "  </tbody>\n",
       "</table></div>"
      ],
      "text/plain": [
       "<IPython.core.display.HTML object>"
      ]
     },
     "metadata": {},
     "output_type": "display_data"
    }
   ],
   "source": [
    "rf_results_2 = format_results([\"max_depth\", \"max_features\", \"n_estimators\"], rf_params_2, rf_acc_2, rf_TPR_2, rf_FPR_2)\n",
    "print(f\"Number of operating points: {len(rf_TPR_2)}\")\n",
    "display_results(rf_results_2, \"Random Forest Results\")"
   ]
  },
  {
   "cell_type": "markdown",
   "id": "0d9a2ee7-7451-472f-bab5-ab1ea7999f42",
   "metadata": {},
   "source": [
    "The random forest model obtained much higher performance when training with transformed versions of the title and text columns. The performance increased substantially for this model because the text column contains more context about the article than the titles alone. The model benefitted from increasing the number of features in this case. The subsequent section applies a final evaluation on the test set using the best hyperparameters above. "
   ]
  },
  {
   "cell_type": "code",
   "execution_count": 37,
   "id": "ec38d85a-cd7b-426d-83e0-7e3115e0eb99",
   "metadata": {},
   "outputs": [
    {
     "name": "stdout",
     "output_type": "stream",
     "text": [
      "Accuracy: 99.599, TPR: 0.9946201850656338, FPR: 0.002538656819755366\n"
     ]
    }
   ],
   "source": [
    "# run a final evaluation against the test set held-out during hyperparameter tuning\n",
    "accuracy, tn, fp, fn, tp = random_forest(train_data, \n",
    "                                         test_data, \n",
    "                                         y_train_2, \n",
    "                                         y_test_2, \n",
    "                                         {\"max_depth\": 21, \n",
    "                                          \"max_features\": 12,\n",
    "                                          \"n_estimators\": 20})\n",
    "\n",
    "print(f\"Accuracy: {accuracy}, TPR: {tp/(tp+fn)}, FPR: {fp/(fp+tn)}\")"
   ]
  }
 ],
 "metadata": {
  "kernelspec": {
   "display_name": "base",
   "language": "python",
   "name": "base"
  },
  "language_info": {
   "codemirror_mode": {
    "name": "ipython",
    "version": 3
   },
   "file_extension": ".py",
   "mimetype": "text/x-python",
   "name": "python",
   "nbconvert_exporter": "python",
   "pygments_lexer": "ipython3",
   "version": "3.10.8"
  }
 },
 "nbformat": 4,
 "nbformat_minor": 5
}
