{
 "cells": [
  {
   "cell_type": "markdown",
   "id": "63bfe640-8b14-4a00-ad45-e499577455ee",
   "metadata": {},
   "source": [
    "# Suicide Rate Regression\n",
    "\n",
    "The notebook predicts an individual's suicide rate as a regression problem. Download the [suicide rates dataset](https://www.kaggle.com/datasets/russellyates88/suicide-rates-overview-1985-to-2016) from Kaggle. "
   ]
  },
  {
   "cell_type": "code",
   "execution_count": 1,
   "id": "c546516c-f71e-4d32-98d7-583c6b0184ad",
   "metadata": {},
   "outputs": [],
   "source": [
    "import pandas as pd\n",
    "import numpy as np\n",
    "from typing import Callable\n",
    "from sklearn.linear_model import LinearRegression\n",
    "from sklearn.metrics import mean_absolute_error\n",
    "from sklearn.model_selection import train_test_split"
   ]
  },
  {
   "cell_type": "code",
   "execution_count": 2,
   "id": "ea0056a5-104d-45e7-a1b4-9ea720e540c7",
   "metadata": {},
   "outputs": [
    {
     "data": {
      "text/html": [
       "<div>\n",
       "<style scoped>\n",
       "    .dataframe tbody tr th:only-of-type {\n",
       "        vertical-align: middle;\n",
       "    }\n",
       "\n",
       "    .dataframe tbody tr th {\n",
       "        vertical-align: top;\n",
       "    }\n",
       "\n",
       "    .dataframe thead th {\n",
       "        text-align: right;\n",
       "    }\n",
       "</style>\n",
       "<table border=\"1\" class=\"dataframe\">\n",
       "  <thead>\n",
       "    <tr style=\"text-align: right;\">\n",
       "      <th></th>\n",
       "      <th>country</th>\n",
       "      <th>year</th>\n",
       "      <th>sex</th>\n",
       "      <th>age</th>\n",
       "      <th>suicides_no</th>\n",
       "      <th>population</th>\n",
       "      <th>suicides/100k pop</th>\n",
       "      <th>country-year</th>\n",
       "      <th>HDI for year</th>\n",
       "      <th>gdp_for_year ($)</th>\n",
       "      <th>gdp_per_capita ($)</th>\n",
       "      <th>generation</th>\n",
       "    </tr>\n",
       "  </thead>\n",
       "  <tbody>\n",
       "    <tr>\n",
       "      <th>0</th>\n",
       "      <td>Albania</td>\n",
       "      <td>1987</td>\n",
       "      <td>male</td>\n",
       "      <td>15-24 years</td>\n",
       "      <td>21</td>\n",
       "      <td>312900</td>\n",
       "      <td>6.71</td>\n",
       "      <td>Albania1987</td>\n",
       "      <td>NaN</td>\n",
       "      <td>2,156,624,900</td>\n",
       "      <td>796</td>\n",
       "      <td>Generation X</td>\n",
       "    </tr>\n",
       "    <tr>\n",
       "      <th>1</th>\n",
       "      <td>Albania</td>\n",
       "      <td>1987</td>\n",
       "      <td>male</td>\n",
       "      <td>35-54 years</td>\n",
       "      <td>16</td>\n",
       "      <td>308000</td>\n",
       "      <td>5.19</td>\n",
       "      <td>Albania1987</td>\n",
       "      <td>NaN</td>\n",
       "      <td>2,156,624,900</td>\n",
       "      <td>796</td>\n",
       "      <td>Silent</td>\n",
       "    </tr>\n",
       "    <tr>\n",
       "      <th>2</th>\n",
       "      <td>Albania</td>\n",
       "      <td>1987</td>\n",
       "      <td>female</td>\n",
       "      <td>15-24 years</td>\n",
       "      <td>14</td>\n",
       "      <td>289700</td>\n",
       "      <td>4.83</td>\n",
       "      <td>Albania1987</td>\n",
       "      <td>NaN</td>\n",
       "      <td>2,156,624,900</td>\n",
       "      <td>796</td>\n",
       "      <td>Generation X</td>\n",
       "    </tr>\n",
       "    <tr>\n",
       "      <th>3</th>\n",
       "      <td>Albania</td>\n",
       "      <td>1987</td>\n",
       "      <td>male</td>\n",
       "      <td>75+ years</td>\n",
       "      <td>1</td>\n",
       "      <td>21800</td>\n",
       "      <td>4.59</td>\n",
       "      <td>Albania1987</td>\n",
       "      <td>NaN</td>\n",
       "      <td>2,156,624,900</td>\n",
       "      <td>796</td>\n",
       "      <td>G.I. Generation</td>\n",
       "    </tr>\n",
       "    <tr>\n",
       "      <th>4</th>\n",
       "      <td>Albania</td>\n",
       "      <td>1987</td>\n",
       "      <td>male</td>\n",
       "      <td>25-34 years</td>\n",
       "      <td>9</td>\n",
       "      <td>274300</td>\n",
       "      <td>3.28</td>\n",
       "      <td>Albania1987</td>\n",
       "      <td>NaN</td>\n",
       "      <td>2,156,624,900</td>\n",
       "      <td>796</td>\n",
       "      <td>Boomers</td>\n",
       "    </tr>\n",
       "  </tbody>\n",
       "</table>\n",
       "</div>"
      ],
      "text/plain": [
       "   country  year     sex          age  suicides_no  population  \\\n",
       "0  Albania  1987    male  15-24 years           21      312900   \n",
       "1  Albania  1987    male  35-54 years           16      308000   \n",
       "2  Albania  1987  female  15-24 years           14      289700   \n",
       "3  Albania  1987    male    75+ years            1       21800   \n",
       "4  Albania  1987    male  25-34 years            9      274300   \n",
       "\n",
       "   suicides/100k pop country-year  HDI for year  gdp_for_year ($)   \\\n",
       "0               6.71  Albania1987           NaN      2,156,624,900   \n",
       "1               5.19  Albania1987           NaN      2,156,624,900   \n",
       "2               4.83  Albania1987           NaN      2,156,624,900   \n",
       "3               4.59  Albania1987           NaN      2,156,624,900   \n",
       "4               3.28  Albania1987           NaN      2,156,624,900   \n",
       "\n",
       "   gdp_per_capita ($)       generation  \n",
       "0                 796     Generation X  \n",
       "1                 796           Silent  \n",
       "2                 796     Generation X  \n",
       "3                 796  G.I. Generation  \n",
       "4                 796          Boomers  "
      ]
     },
     "execution_count": 2,
     "metadata": {},
     "output_type": "execute_result"
    }
   ],
   "source": [
    "suicide_data = pd.read_csv('../EP_datasets/suicide-rates-overview-1985-to-2016/master.csv')\n",
    "suicide_data.head()"
   ]
  },
  {
   "cell_type": "markdown",
   "id": "f99efdb2-d8ca-41d0-bcfb-2144efd76b24",
   "metadata": {},
   "source": [
    "Note: Omitting data exploration because this step was completed in a previous assignment/notebook. See `Suicide-Rate-Classification.ipynb`."
   ]
  },
  {
   "cell_type": "markdown",
   "id": "a79b2db1-ae65-41f4-b6b6-3dcef391040a",
   "metadata": {},
   "source": [
    "## Helpers"
   ]
  },
  {
   "cell_type": "markdown",
   "id": "1355667f-e213-4339-b770-7597dea90068",
   "metadata": {},
   "source": [
    "<a id=\"display_coeffs_and_equation\"></a>\n",
    "## display_coeffs_and_equation\n",
    "\n",
    "*The display_coeffs_and_equation function prints the regression coefficients and regression formula for a fitted linear regression model.*\n",
    "\n",
    "* **model** Callable: a trained linear regression model \n",
    "\n",
    "**returns** None"
   ]
  },
  {
   "cell_type": "code",
   "execution_count": 3,
   "id": "4e08ce38-5619-490f-9776-bc2c0cb1c744",
   "metadata": {},
   "outputs": [],
   "source": [
    "def display_coeffs_and_equation(model: Callable) -> None:\n",
    "    coeffs = model.coef_\n",
    "    intercept = model.intercept_\n",
    "    \n",
    "    print(\"The coefficients of the linear regression model are:\\n\")\n",
    "    for feature, coeff in zip(features, coeffs):\n",
    "        print(f\"{feature}: {coeff}\")\n",
    "\n",
    "    print(\"\\nThe regression equation is:\\n\")\n",
    "    print(f\"y_pred = {intercept} + \", end=\"\")\n",
    "    for feature, coeff in zip(features, coeffs):\n",
    "        if feature != features[-1]:\n",
    "            print(f\"{coeff}({feature}) + \", end=\"\")\n",
    "        else:\n",
    "            print(f\"{coeff}({feature})\") "
   ]
  },
  {
   "cell_type": "markdown",
   "id": "cd71ffae-b82a-498c-b3b9-918a6af16ae6",
   "metadata": {},
   "source": [
    "## Predict the suicide rate for (males, age 20, generation X) using the one-hot encoded variabels from the previous classification problem"
   ]
  },
  {
   "cell_type": "code",
   "execution_count": 4,
   "id": "2b0be4a0-508b-4c85-a41d-112229cae70b",
   "metadata": {},
   "outputs": [
    {
     "data": {
      "text/html": [
       "<div>\n",
       "<style scoped>\n",
       "    .dataframe tbody tr th:only-of-type {\n",
       "        vertical-align: middle;\n",
       "    }\n",
       "\n",
       "    .dataframe tbody tr th {\n",
       "        vertical-align: top;\n",
       "    }\n",
       "\n",
       "    .dataframe thead th {\n",
       "        text-align: right;\n",
       "    }\n",
       "</style>\n",
       "<table border=\"1\" class=\"dataframe\">\n",
       "  <thead>\n",
       "    <tr style=\"text-align: right;\">\n",
       "      <th></th>\n",
       "      <th>suicides_100k_pop</th>\n",
       "      <th>sex_female</th>\n",
       "      <th>sex_male</th>\n",
       "      <th>age_15-24 years</th>\n",
       "      <th>age_25-34 years</th>\n",
       "      <th>age_35-54 years</th>\n",
       "      <th>age_5-14 years</th>\n",
       "      <th>age_55-74 years</th>\n",
       "      <th>age_75+ years</th>\n",
       "      <th>generation_Boomers</th>\n",
       "      <th>generation_G.I. Generation</th>\n",
       "      <th>generation_Generation X</th>\n",
       "      <th>generation_Generation Z</th>\n",
       "      <th>generation_Millenials</th>\n",
       "      <th>generation_Silent</th>\n",
       "    </tr>\n",
       "  </thead>\n",
       "  <tbody>\n",
       "    <tr>\n",
       "      <th>0</th>\n",
       "      <td>6.71</td>\n",
       "      <td>0.0</td>\n",
       "      <td>1.0</td>\n",
       "      <td>1.0</td>\n",
       "      <td>0.0</td>\n",
       "      <td>0.0</td>\n",
       "      <td>0.0</td>\n",
       "      <td>0.0</td>\n",
       "      <td>0.0</td>\n",
       "      <td>0.0</td>\n",
       "      <td>0.0</td>\n",
       "      <td>1.0</td>\n",
       "      <td>0.0</td>\n",
       "      <td>0.0</td>\n",
       "      <td>0.0</td>\n",
       "    </tr>\n",
       "    <tr>\n",
       "      <th>1</th>\n",
       "      <td>5.19</td>\n",
       "      <td>0.0</td>\n",
       "      <td>1.0</td>\n",
       "      <td>0.0</td>\n",
       "      <td>0.0</td>\n",
       "      <td>1.0</td>\n",
       "      <td>0.0</td>\n",
       "      <td>0.0</td>\n",
       "      <td>0.0</td>\n",
       "      <td>0.0</td>\n",
       "      <td>0.0</td>\n",
       "      <td>0.0</td>\n",
       "      <td>0.0</td>\n",
       "      <td>0.0</td>\n",
       "      <td>1.0</td>\n",
       "    </tr>\n",
       "    <tr>\n",
       "      <th>2</th>\n",
       "      <td>4.83</td>\n",
       "      <td>1.0</td>\n",
       "      <td>0.0</td>\n",
       "      <td>1.0</td>\n",
       "      <td>0.0</td>\n",
       "      <td>0.0</td>\n",
       "      <td>0.0</td>\n",
       "      <td>0.0</td>\n",
       "      <td>0.0</td>\n",
       "      <td>0.0</td>\n",
       "      <td>0.0</td>\n",
       "      <td>1.0</td>\n",
       "      <td>0.0</td>\n",
       "      <td>0.0</td>\n",
       "      <td>0.0</td>\n",
       "    </tr>\n",
       "    <tr>\n",
       "      <th>3</th>\n",
       "      <td>4.59</td>\n",
       "      <td>0.0</td>\n",
       "      <td>1.0</td>\n",
       "      <td>0.0</td>\n",
       "      <td>0.0</td>\n",
       "      <td>0.0</td>\n",
       "      <td>0.0</td>\n",
       "      <td>0.0</td>\n",
       "      <td>1.0</td>\n",
       "      <td>0.0</td>\n",
       "      <td>1.0</td>\n",
       "      <td>0.0</td>\n",
       "      <td>0.0</td>\n",
       "      <td>0.0</td>\n",
       "      <td>0.0</td>\n",
       "    </tr>\n",
       "    <tr>\n",
       "      <th>4</th>\n",
       "      <td>3.28</td>\n",
       "      <td>0.0</td>\n",
       "      <td>1.0</td>\n",
       "      <td>0.0</td>\n",
       "      <td>1.0</td>\n",
       "      <td>0.0</td>\n",
       "      <td>0.0</td>\n",
       "      <td>0.0</td>\n",
       "      <td>0.0</td>\n",
       "      <td>1.0</td>\n",
       "      <td>0.0</td>\n",
       "      <td>0.0</td>\n",
       "      <td>0.0</td>\n",
       "      <td>0.0</td>\n",
       "      <td>0.0</td>\n",
       "    </tr>\n",
       "  </tbody>\n",
       "</table>\n",
       "</div>"
      ],
      "text/plain": [
       "   suicides_100k_pop  sex_female  sex_male  age_15-24 years  age_25-34 years  \\\n",
       "0               6.71         0.0       1.0              1.0              0.0   \n",
       "1               5.19         0.0       1.0              0.0              0.0   \n",
       "2               4.83         1.0       0.0              1.0              0.0   \n",
       "3               4.59         0.0       1.0              0.0              0.0   \n",
       "4               3.28         0.0       1.0              0.0              1.0   \n",
       "\n",
       "   age_35-54 years  age_5-14 years  age_55-74 years  age_75+ years  \\\n",
       "0              0.0             0.0              0.0            0.0   \n",
       "1              1.0             0.0              0.0            0.0   \n",
       "2              0.0             0.0              0.0            0.0   \n",
       "3              0.0             0.0              0.0            1.0   \n",
       "4              0.0             0.0              0.0            0.0   \n",
       "\n",
       "   generation_Boomers  generation_G.I. Generation  generation_Generation X  \\\n",
       "0                 0.0                         0.0                      1.0   \n",
       "1                 0.0                         0.0                      0.0   \n",
       "2                 0.0                         0.0                      1.0   \n",
       "3                 0.0                         1.0                      0.0   \n",
       "4                 1.0                         0.0                      0.0   \n",
       "\n",
       "   generation_Generation Z  generation_Millenials  generation_Silent  \n",
       "0                      0.0                    0.0                0.0  \n",
       "1                      0.0                    0.0                1.0  \n",
       "2                      0.0                    0.0                0.0  \n",
       "3                      0.0                    0.0                0.0  \n",
       "4                      0.0                    0.0                0.0  "
      ]
     },
     "execution_count": 4,
     "metadata": {},
     "output_type": "execute_result"
    }
   ],
   "source": [
    "# reformat feature name\n",
    "suicide_data.rename(columns={'suicides/100k pop': 'suicides_100k_pop'}, inplace=True)\n",
    "\n",
    "# create a new dataframe with the sex, age, and generation features\n",
    "one_hot_df = suicide_data[['generation', 'age', 'sex', 'suicides_100k_pop']]\n",
    "\n",
    "# one-hot encode the features\n",
    "new_suicide_df = pd.get_dummies(one_hot_df, columns=['sex', 'age', 'generation'])\n",
    "\n",
    "# convert all values to float\n",
    "one_hot_suicide_df = new_suicide_df.astype('float64')\n",
    "\n",
    "one_hot_suicide_df.head()"
   ]
  },
  {
   "cell_type": "code",
   "execution_count": 5,
   "id": "ae1bf9ef-116a-49a6-87b9-a7b11cff45d4",
   "metadata": {},
   "outputs": [],
   "source": [
    "# get labels and drop them from the data\n",
    "one_hot_labels = np.array(new_suicide_df['suicides_100k_pop'])\n",
    "one_hot_data = new_suicide_df.drop('suicides_100k_pop', axis = 1)\n",
    "features = one_hot_data.columns\n",
    "one_hot_data = np.array(one_hot_data)"
   ]
  },
  {
   "cell_type": "code",
   "execution_count": 6,
   "id": "ab06ff4f-c6f7-4aac-9963-9a803153fe4f",
   "metadata": {},
   "outputs": [],
   "source": [
    "# get training and test splits\n",
    "x_train, x_test, y_train, y_test = train_test_split(one_hot_data, one_hot_labels, test_size=0.2, random_state=42)"
   ]
  },
  {
   "cell_type": "code",
   "execution_count": 7,
   "id": "69cbc0ef-3551-4be9-9d81-5febbe328ea5",
   "metadata": {},
   "outputs": [
    {
     "name": "stdout",
     "output_type": "stream",
     "text": [
      "The coefficients of the linear regression model are:\n",
      "\n",
      "sex_female: -11043810134797.283\n",
      "sex_male: -11043810134782.477\n",
      "age_15-24 years: -669736127374.7412\n",
      "age_25-34 years: -669736127371.7694\n",
      "age_35-54 years: -669736127369.8015\n",
      "age_5-14 years: -669736127382.7004\n",
      "age_55-74 years: -669736127368.9316\n",
      "age_75+ years: -669736127361.7905\n",
      "generation_Boomers: -62855403172.59684\n",
      "generation_G.I. Generation: -62855403169.61795\n",
      "generation_Generation X: -62855403173.31905\n",
      "generation_Generation Z: -62855403173.90937\n",
      "generation_Millenials: -62855403174.31953\n",
      "generation_Silent: -62855403172.70142\n",
      "\n",
      "The regression equation is:\n",
      "\n",
      "y_pred = 11776401665347.26 + -11043810134797.283(sex_female) + -11043810134782.477(sex_male) + -669736127374.7412(age_15-24 years) + -669736127371.7694(age_25-34 years) + -669736127369.8015(age_35-54 years) + -669736127382.7004(age_5-14 years) + -669736127368.9316(age_55-74 years) + -669736127361.7905(age_75+ years) + -62855403172.59684(generation_Boomers) + -62855403169.61795(generation_G.I. Generation) + -62855403173.31905(generation_Generation X) + -62855403173.90937(generation_Generation Z) + -62855403174.31953(generation_Millenials) + -62855403172.70142(generation_Silent)\n"
     ]
    }
   ],
   "source": [
    "# fit the model\n",
    "lr_model = LinearRegression()\n",
    "model_1 = lr_model.fit(x_train, y_train)\n",
    "display_coeffs_and_equation(model_1)"
   ]
  },
  {
   "cell_type": "code",
   "execution_count": 8,
   "id": "ef2653dd-e8c0-4df5-897b-ff30aff7a986",
   "metadata": {},
   "outputs": [
    {
     "name": "stdout",
     "output_type": "stream",
     "text": [
      "Predicted Value: 16.72265625\n",
      "MAE: 9.807116201456312\n"
     ]
    }
   ],
   "source": [
    "# create a new data point with an age of 20, gender male, and generation x\n",
    "test_example = np.array([0.0, 1.0, 1.0, 0.0, 0.0, 0.0, 0.0, 0.0, 0.0, 0.0, 1.0, 0.0, 0.0, 0.0]).reshape(1, -1)\n",
    "\n",
    "# get the true labels from the test set for matching examples\n",
    "matching_indices = np.where((x_test == test_example).all(axis=1))[0]\n",
    "true_labels = y_test[matching_indices]\n",
    "\n",
    "# make prediction\n",
    "predicted_value = model_1.predict(test_example)\n",
    "\n",
    "print(f\"Predicted Value: {predicted_value[0]}\")\n",
    "print(f\"MAE: {mean_absolute_error([predicted_value for i in range(len(true_labels))], true_labels)}\")"
   ]
  },
  {
   "cell_type": "markdown",
   "id": "b53086e8-6990-4677-b879-a8acbbb10c26",
   "metadata": {},
   "source": [
    "This model has 14 regression coefficients that map to each feature in the dataset. The coefficients in the above cell show that the weights are the same for each one-hot encoded version of the sex, age, and generation features."
   ]
  },
  {
   "cell_type": "markdown",
   "id": "fb7084cd-bb78-40c3-bf27-38a6d1067aaa",
   "metadata": {},
   "source": [
    "## Use the natural numerical features to predict the suicide rate for (males, age 20, generation X)"
   ]
  },
  {
   "cell_type": "code",
   "execution_count": 9,
   "id": "31bd4f84-a0d9-41e5-8b8e-e822ac03c1c8",
   "metadata": {},
   "outputs": [
    {
     "name": "stdout",
     "output_type": "stream",
     "text": [
      "Generation mapping:\n",
      "\n",
      "{0: 'G.I. Generation', 1: 'Silent', 2: 'Boomers', 3: 'Generation X', 4: 'Millenials', 5: 'Generation Z'}\n",
      "\n",
      "Age mapping:\n",
      "\n",
      "{0: '5-14 years', 1: '15-24 years', 2: '25-34 years', 3: '35-54 years', 4: '55-74 years', 5: '75+ years'}\n",
      "\n",
      "Sex mapping:\n",
      "\n",
      "{0: 'female', 1: 'male'}\n"
     ]
    }
   ],
   "source": [
    "numerical_df = suicide_data[['generation', 'age', 'sex', 'suicides_100k_pop']].copy()\n",
    "\n",
    "# encode generation as an ordinal variable\n",
    "generation_mapping = {0: 'G.I. Generation', 1: 'Silent', 2: 'Boomers', 3: 'Generation X', 4: 'Millenials', 5: 'Generation Z'}\n",
    "numerical_df['generation'] = numerical_df['generation'].map({v: k for k, v in generation_mapping.items()})\n",
    "\n",
    "# encode age as an ordinal value\n",
    "age_mapping = {0: '5-14 years', 1: '15-24 years', 2: '25-34 years', 3: '35-54 years', 4: '55-74 years', 5: '75+ years'}\n",
    "numerical_df['age'] = numerical_df['age'].map({v: k for k, v in age_mapping.items()})\n",
    "\n",
    "# encode sex as a binary value\n",
    "sex_mapping = {0: 'female', 1: 'male'}\n",
    "numerical_df['sex'] = numerical_df['sex'].map({v: k for k, v in sex_mapping.items()})\n",
    "\n",
    "# convert all values to float\n",
    "numerical_df = numerical_df.astype('float64')\n",
    "\n",
    "print(\"Generation mapping:\\n\")\n",
    "print(generation_mapping)\n",
    "print(\"\\nAge mapping:\\n\")\n",
    "print(age_mapping)\n",
    "print(\"\\nSex mapping:\\n\")\n",
    "print(sex_mapping)"
   ]
  },
  {
   "cell_type": "code",
   "execution_count": 10,
   "id": "36457381-0649-4a1b-8d0b-bf15cce909f8",
   "metadata": {},
   "outputs": [
    {
     "data": {
      "text/html": [
       "<div>\n",
       "<style scoped>\n",
       "    .dataframe tbody tr th:only-of-type {\n",
       "        vertical-align: middle;\n",
       "    }\n",
       "\n",
       "    .dataframe tbody tr th {\n",
       "        vertical-align: top;\n",
       "    }\n",
       "\n",
       "    .dataframe thead th {\n",
       "        text-align: right;\n",
       "    }\n",
       "</style>\n",
       "<table border=\"1\" class=\"dataframe\">\n",
       "  <thead>\n",
       "    <tr style=\"text-align: right;\">\n",
       "      <th></th>\n",
       "      <th>generation</th>\n",
       "      <th>age</th>\n",
       "      <th>sex</th>\n",
       "      <th>suicides_100k_pop</th>\n",
       "    </tr>\n",
       "  </thead>\n",
       "  <tbody>\n",
       "    <tr>\n",
       "      <th>0</th>\n",
       "      <td>3.0</td>\n",
       "      <td>1.0</td>\n",
       "      <td>1.0</td>\n",
       "      <td>6.71</td>\n",
       "    </tr>\n",
       "    <tr>\n",
       "      <th>1</th>\n",
       "      <td>1.0</td>\n",
       "      <td>3.0</td>\n",
       "      <td>1.0</td>\n",
       "      <td>5.19</td>\n",
       "    </tr>\n",
       "    <tr>\n",
       "      <th>2</th>\n",
       "      <td>3.0</td>\n",
       "      <td>1.0</td>\n",
       "      <td>0.0</td>\n",
       "      <td>4.83</td>\n",
       "    </tr>\n",
       "    <tr>\n",
       "      <th>3</th>\n",
       "      <td>0.0</td>\n",
       "      <td>5.0</td>\n",
       "      <td>1.0</td>\n",
       "      <td>4.59</td>\n",
       "    </tr>\n",
       "    <tr>\n",
       "      <th>4</th>\n",
       "      <td>2.0</td>\n",
       "      <td>2.0</td>\n",
       "      <td>1.0</td>\n",
       "      <td>3.28</td>\n",
       "    </tr>\n",
       "  </tbody>\n",
       "</table>\n",
       "</div>"
      ],
      "text/plain": [
       "   generation  age  sex  suicides_100k_pop\n",
       "0         3.0  1.0  1.0               6.71\n",
       "1         1.0  3.0  1.0               5.19\n",
       "2         3.0  1.0  0.0               4.83\n",
       "3         0.0  5.0  1.0               4.59\n",
       "4         2.0  2.0  1.0               3.28"
      ]
     },
     "execution_count": 10,
     "metadata": {},
     "output_type": "execute_result"
    }
   ],
   "source": [
    "numerical_df.head()"
   ]
  },
  {
   "cell_type": "code",
   "execution_count": 11,
   "id": "f22c3fa4-5373-4ecb-b0b3-6a2e8bda3323",
   "metadata": {},
   "outputs": [],
   "source": [
    "# get labels and drop them from the data\n",
    "numerical_labels = np.array(numerical_df['suicides_100k_pop'])\n",
    "numerical_data = numerical_df.drop('suicides_100k_pop', axis = 1)\n",
    "features = numerical_data.columns\n",
    "numerical_data = np.array(numerical_data)"
   ]
  },
  {
   "cell_type": "code",
   "execution_count": 12,
   "id": "4b2d7751-b2cf-4c96-b0c3-524f130b31db",
   "metadata": {},
   "outputs": [],
   "source": [
    "# split training and test data\n",
    "x_train, x_test, y_train, y_test = train_test_split(numerical_data, numerical_labels, test_size=0.2, random_state=42)"
   ]
  },
  {
   "cell_type": "code",
   "execution_count": 13,
   "id": "becd714f-fb98-4fcb-9d34-559027fb61f9",
   "metadata": {},
   "outputs": [
    {
     "name": "stdout",
     "output_type": "stream",
     "text": [
      "The coefficients of the linear regression model are:\n",
      "\n",
      "generation: -0.40278264899315597\n",
      "age: 3.7527464716247825\n",
      "sex: 14.82885578306375\n",
      "\n",
      "The regression equation is:\n",
      "\n",
      "y_pred = -3.0088482318725287 + -0.40278264899315597(generation) + 3.7527464716247825(age) + 14.82885578306375(sex)\n"
     ]
    }
   ],
   "source": [
    "# fit the model\n",
    "lr_model = LinearRegression()\n",
    "model_2 = lr_model.fit(x_train, y_train)\n",
    "display_coeffs_and_equation(model_2)"
   ]
  },
  {
   "cell_type": "code",
   "execution_count": 14,
   "id": "ef81cc48-ae77-4f8b-a56d-7d89d5c2c79a",
   "metadata": {},
   "outputs": [
    {
     "name": "stdout",
     "output_type": "stream",
     "text": [
      "Predicted Value: 14.364406075836536\n",
      "MAE: 9.13720900575308\n"
     ]
    }
   ],
   "source": [
    "# create a new data point with generation X, age 20, and male\n",
    "test_example = np.array([3.0, 1.0, 1.0]).reshape(1, -1)\n",
    "\n",
    "# get the true labels from the test set for matching examples\n",
    "matching_indices = np.where((x_test == test_example).all(axis=1))[0]\n",
    "true_labels = y_test[matching_indices]\n",
    "\n",
    "# make the prediction\n",
    "predicted_value = model_2.predict(test_example)\n",
    "\n",
    "print(f\"Predicted Value: {predicted_value[0]}\")\n",
    "print(f\"MAE: {mean_absolute_error([predicted_value for i in range(len(true_labels))], true_labels)}\")"
   ]
  },
  {
   "cell_type": "markdown",
   "id": "00e9854f-59b5-42f9-9e75-7b374814e0b9",
   "metadata": {},
   "source": [
    "This model has 3 coefficients that map to each feature in the numerically encoded dataset. "
   ]
  },
  {
   "cell_type": "markdown",
   "id": "86f6d8fe-9651-4e7b-849a-c88a40fe0777",
   "metadata": {},
   "source": [
    "The model trained on the age, sex, and generation features with numerical (ordinal) encodings obtained slightly higher performance than the model trained on the one-hot encoded features. The one-hot encoded model had an MAE of 9.81, and the numerically encoded model had an MAE of 9.14 when predicting the suicide rate for males, age 20, from generation X. This performance increase was minor. However, the second model is simpler and more interpretable, as the regression equations demonstrate. Therefore, the second model is the preferred choice for this problem. The ordinal encodings worked well for these features because the generation and age variables had clear orderings. This type of ordinal encoding could reduce performance for nominal features with no specific ordering."
   ]
  },
  {
   "cell_type": "markdown",
   "id": "d7505e8d-ddee-44a9-9e4a-8f1fe5fe3801",
   "metadata": {},
   "source": [
    "## Make a prediction for age 33, male and generation Alpha (i.e. the generation after generation Z)?"
   ]
  },
  {
   "cell_type": "code",
   "execution_count": 15,
   "id": "7f103c14-bd8f-46a6-aaa6-9f75a3c315d0",
   "metadata": {},
   "outputs": [
    {
     "name": "stdout",
     "output_type": "stream",
     "text": [
      "Predicted Value: 16.90880460048185\n"
     ]
    }
   ],
   "source": [
    "# create a new data point with a values generation Aplha (value 6 after generation Z), age of 33, and gender male\n",
    "test_example = np.array([6.0, 2.0, 1.0]).reshape(1, -1)\n",
    "\n",
    "predicted_value = model_2.predict(test_example)\n",
    "\n",
    "print(f\"Predicted Value: {predicted_value[0]}\")"
   ]
  },
  {
   "cell_type": "markdown",
   "id": "35f989f6-15f2-4ba8-843f-d4bb6ccf2e33",
   "metadata": {},
   "source": [
    "The model predicted that 33-year-old males in generation Alpha will have a higher suicide rate than 20-year-old males from generation X."
   ]
  },
  {
   "cell_type": "markdown",
   "id": "16e685ea-6e0d-4bcc-b2fc-bada7764025a",
   "metadata": {},
   "source": [
    "One advantage of using regression in terms of the independent variables is that the regression coefficients describe continuous, numerical weights assigned to each feature. The regression coefficients are interpreted as a feature's influence on the outcome when other features remain constant. Substituting these coefficients into the regression equation makes it easy to describe feature significance and model predictions to non-technical stakeholders. In contrast, interpretable classification techniques describe feature significance in terms of entropy and information gain. These metrics require a more complex explanation than the regression formula."
   ]
  },
  {
   "cell_type": "markdown",
   "id": "8b59209f-a9ee-4cf1-bb14-4e3e84e34ebc",
   "metadata": {},
   "source": [
    "One advantage of using numerical features with regression instead of one-hot encoded variables is that the regression model can predict future, unseen values, as shown in the previous cell. The model trained with one-hot encoded features would have been unable to predict the suicide rate for a new generation because there was no column for this generation in the training data. Additionally, using numerically-encoded features rather than one-hot encoded features reduces the dimensionality of the dataset. A lower dimensional dataset makes the regression equation more interpretable, reduces overfitting, and improves computational efficiency. However, it is important to note that applying a numerical or ordinal encoding does not work for all features. This technique could also reduce performance by causing the model to make assumptions about a natural ordering in the variable that does not exist."
   ]
  },
  {
   "cell_type": "markdown",
   "id": "93727baf-ddec-4f77-bca0-27260a866ca2",
   "metadata": {},
   "source": [
    "I would suggest a regression model for the problem of predicting suicide rates. The suicide rate is naturally a numeric feature. Binning the suicide rate variable for the classification approach is subjective, and high vs. low suicide rates could vary depending on the binning method used by the machine learning practitioner. Additionally, the threshold used to define a high suicide rate could change over time. The continuous output of the regression model does not make assumptions about a high vs. low suicide rate and retains the natural format of the dependent variable. As noted, another benefit of the regression approach is that it can predict the suicide rate for future generations not included in the training set. Therefore, the predictions made by the regression model provide a more valuable metric to describe suicide rates, and this model will generalize better over time."
   ]
  }
 ],
 "metadata": {
  "kernelspec": {
   "display_name": "Python 3 (ipykernel)",
   "language": "python",
   "name": "python3"
  },
  "language_info": {
   "codemirror_mode": {
    "name": "ipython",
    "version": 3
   },
   "file_extension": ".py",
   "mimetype": "text/x-python",
   "name": "python",
   "nbconvert_exporter": "python",
   "pygments_lexer": "ipython3",
   "version": "3.10.8"
  }
 },
 "nbformat": 4,
 "nbformat_minor": 5
}
